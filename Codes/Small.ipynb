{
 "cells": [
  {
   "cell_type": "code",
   "execution_count": 7,
   "id": "1204fe5d-9e3d-48b1-8248-84ea59bc090f",
   "metadata": {},
   "outputs": [],
   "source": [
    "import numpy as np"
   ]
  },
  {
   "cell_type": "code",
   "execution_count": 8,
   "id": "fe373e2f-f21a-48bd-b139-59aef9a3b04f",
   "metadata": {},
   "outputs": [
    {
     "name": "stdout",
     "output_type": "stream",
     "text": [
      "Requirement already satisfied: torch in ./anaconda3/lib/python3.10/site-packages (2.5.1)\n",
      "Requirement already satisfied: filelock in ./anaconda3/lib/python3.10/site-packages (from torch) (3.13.1)\n",
      "Requirement already satisfied: typing-extensions>=4.8.0 in ./anaconda3/lib/python3.10/site-packages (from torch) (4.11.0)\n",
      "Requirement already satisfied: networkx in ./anaconda3/lib/python3.10/site-packages (from torch) (3.3)\n",
      "Requirement already satisfied: jinja2 in ./anaconda3/lib/python3.10/site-packages (from torch) (3.1.4)\n",
      "Requirement already satisfied: fsspec in ./anaconda3/lib/python3.10/site-packages (from torch) (2024.6.1)\n",
      "Requirement already satisfied: nvidia-cuda-nvrtc-cu12==12.4.127 in ./anaconda3/lib/python3.10/site-packages (from torch) (12.4.127)\n",
      "Requirement already satisfied: nvidia-cuda-runtime-cu12==12.4.127 in ./anaconda3/lib/python3.10/site-packages (from torch) (12.4.127)\n",
      "Requirement already satisfied: nvidia-cuda-cupti-cu12==12.4.127 in ./anaconda3/lib/python3.10/site-packages (from torch) (12.4.127)\n",
      "Requirement already satisfied: nvidia-cudnn-cu12==9.1.0.70 in ./anaconda3/lib/python3.10/site-packages (from torch) (9.1.0.70)\n",
      "Requirement already satisfied: nvidia-cublas-cu12==12.4.5.8 in ./anaconda3/lib/python3.10/site-packages (from torch) (12.4.5.8)\n",
      "Requirement already satisfied: nvidia-cufft-cu12==11.2.1.3 in ./anaconda3/lib/python3.10/site-packages (from torch) (11.2.1.3)\n",
      "Requirement already satisfied: nvidia-curand-cu12==10.3.5.147 in ./anaconda3/lib/python3.10/site-packages (from torch) (10.3.5.147)\n",
      "Requirement already satisfied: nvidia-cusolver-cu12==11.6.1.9 in ./anaconda3/lib/python3.10/site-packages (from torch) (11.6.1.9)\n",
      "Requirement already satisfied: nvidia-cusparse-cu12==12.3.1.170 in ./anaconda3/lib/python3.10/site-packages (from torch) (12.3.1.170)\n",
      "Requirement already satisfied: nvidia-nccl-cu12==2.21.5 in ./anaconda3/lib/python3.10/site-packages (from torch) (2.21.5)\n",
      "Requirement already satisfied: nvidia-nvtx-cu12==12.4.127 in ./anaconda3/lib/python3.10/site-packages (from torch) (12.4.127)\n",
      "Requirement already satisfied: nvidia-nvjitlink-cu12==12.4.127 in ./anaconda3/lib/python3.10/site-packages (from torch) (12.4.127)\n",
      "Requirement already satisfied: triton==3.1.0 in ./anaconda3/lib/python3.10/site-packages (from torch) (3.1.0)\n",
      "Requirement already satisfied: sympy==1.13.1 in ./anaconda3/lib/python3.10/site-packages (from torch) (1.13.1)\n",
      "Requirement already satisfied: mpmath<1.4,>=1.1.0 in ./anaconda3/lib/python3.10/site-packages (from sympy==1.13.1->torch) (1.3.0)\n",
      "Requirement already satisfied: MarkupSafe>=2.0 in ./anaconda3/lib/python3.10/site-packages (from jinja2->torch) (2.1.3)\n"
     ]
    }
   ],
   "source": [
    "!pip install torch"
   ]
  },
  {
   "cell_type": "code",
   "execution_count": 9,
   "id": "a1a61ba1-ac10-4b3e-94eb-51e93e41e750",
   "metadata": {},
   "outputs": [],
   "source": [
    "import pandas as pd"
   ]
  },
  {
   "cell_type": "code",
   "execution_count": 10,
   "id": "7d4424e2-7a53-4b9c-8639-eb63640dbb24",
   "metadata": {},
   "outputs": [],
   "source": [
    "path = '/dgxa_home/se22uari173/train.csv'"
   ]
  },
  {
   "cell_type": "code",
   "execution_count": 11,
   "id": "27267287-25aa-456d-b954-ac21358d36d6",
   "metadata": {},
   "outputs": [],
   "source": [
    "df = pd.read_csv(path)"
   ]
  },
  {
   "cell_type": "code",
   "execution_count": 12,
   "id": "4fa79084-4dff-4037-9397-07a9d9fc7939",
   "metadata": {},
   "outputs": [
    {
     "data": {
      "text/html": [
       "<div>\n",
       "<style scoped>\n",
       "    .dataframe tbody tr th:only-of-type {\n",
       "        vertical-align: middle;\n",
       "    }\n",
       "\n",
       "    .dataframe tbody tr th {\n",
       "        vertical-align: top;\n",
       "    }\n",
       "\n",
       "    .dataframe thead th {\n",
       "        text-align: right;\n",
       "    }\n",
       "</style>\n",
       "<table border=\"1\" class=\"dataframe\">\n",
       "  <thead>\n",
       "    <tr style=\"text-align: right;\">\n",
       "      <th></th>\n",
       "      <th>id</th>\n",
       "      <th>dialogue</th>\n",
       "      <th>summary</th>\n",
       "      <th>topic</th>\n",
       "    </tr>\n",
       "  </thead>\n",
       "  <tbody>\n",
       "    <tr>\n",
       "      <th>0</th>\n",
       "      <td>train_0</td>\n",
       "      <td>#Person1#: Hi, Mr. Smith. I'm Doctor Hawkins. ...</td>\n",
       "      <td>Mr. Smith's getting a check-up, and Doctor Haw...</td>\n",
       "      <td>get a check-up</td>\n",
       "    </tr>\n",
       "    <tr>\n",
       "      <th>1</th>\n",
       "      <td>train_1</td>\n",
       "      <td>#Person1#: Hello Mrs. Parker, how have you bee...</td>\n",
       "      <td>Mrs Parker takes Ricky for his vaccines. Dr. P...</td>\n",
       "      <td>vaccines</td>\n",
       "    </tr>\n",
       "    <tr>\n",
       "      <th>2</th>\n",
       "      <td>train_2</td>\n",
       "      <td>#Person1#: Excuse me, did you see a set of key...</td>\n",
       "      <td>#Person1#'s looking for a set of keys and asks...</td>\n",
       "      <td>find keys</td>\n",
       "    </tr>\n",
       "    <tr>\n",
       "      <th>3</th>\n",
       "      <td>train_3</td>\n",
       "      <td>#Person1#: Why didn't you tell me you had a gi...</td>\n",
       "      <td>#Person1#'s angry because #Person2# didn't tel...</td>\n",
       "      <td>have a girlfriend</td>\n",
       "    </tr>\n",
       "    <tr>\n",
       "      <th>4</th>\n",
       "      <td>train_4</td>\n",
       "      <td>#Person1#: Watsup, ladies! Y'll looking'fine t...</td>\n",
       "      <td>Malik invites Nikki to dance. Nikki agrees if ...</td>\n",
       "      <td>dance</td>\n",
       "    </tr>\n",
       "    <tr>\n",
       "      <th>...</th>\n",
       "      <td>...</td>\n",
       "      <td>...</td>\n",
       "      <td>...</td>\n",
       "      <td>...</td>\n",
       "    </tr>\n",
       "    <tr>\n",
       "      <th>12455</th>\n",
       "      <td>train_12455</td>\n",
       "      <td>#Person1#: Excuse me. You are Mr. Green from M...</td>\n",
       "      <td>Tan Ling picks Mr. Green up who is easily reco...</td>\n",
       "      <td>pick up someone</td>\n",
       "    </tr>\n",
       "    <tr>\n",
       "      <th>12456</th>\n",
       "      <td>train_12456</td>\n",
       "      <td>#Person1#: Mister Ewing said we should show up...</td>\n",
       "      <td>#Person1# and #Person2# plan to take the under...</td>\n",
       "      <td>conference center</td>\n",
       "    </tr>\n",
       "    <tr>\n",
       "      <th>12457</th>\n",
       "      <td>train_12457</td>\n",
       "      <td>#Person1#: How can I help you today?\\n#Person2...</td>\n",
       "      <td>#Person2# rents a small car for 5 days with th...</td>\n",
       "      <td>rent a car</td>\n",
       "    </tr>\n",
       "    <tr>\n",
       "      <th>12458</th>\n",
       "      <td>train_12458</td>\n",
       "      <td>#Person1#: You look a bit unhappy today. What'...</td>\n",
       "      <td>#Person2#'s mom lost her job. #Person2# hopes ...</td>\n",
       "      <td>job losing</td>\n",
       "    </tr>\n",
       "    <tr>\n",
       "      <th>12459</th>\n",
       "      <td>train_12459</td>\n",
       "      <td>#Person1#: Mom, I'm flying to visit uncle Lee'...</td>\n",
       "      <td>#Person1# asks for #Person2#'s idea of packing...</td>\n",
       "      <td>baggage pack</td>\n",
       "    </tr>\n",
       "  </tbody>\n",
       "</table>\n",
       "<p>12460 rows × 4 columns</p>\n",
       "</div>"
      ],
      "text/plain": [
       "                id                                           dialogue  \\\n",
       "0          train_0  #Person1#: Hi, Mr. Smith. I'm Doctor Hawkins. ...   \n",
       "1          train_1  #Person1#: Hello Mrs. Parker, how have you bee...   \n",
       "2          train_2  #Person1#: Excuse me, did you see a set of key...   \n",
       "3          train_3  #Person1#: Why didn't you tell me you had a gi...   \n",
       "4          train_4  #Person1#: Watsup, ladies! Y'll looking'fine t...   \n",
       "...            ...                                                ...   \n",
       "12455  train_12455  #Person1#: Excuse me. You are Mr. Green from M...   \n",
       "12456  train_12456  #Person1#: Mister Ewing said we should show up...   \n",
       "12457  train_12457  #Person1#: How can I help you today?\\n#Person2...   \n",
       "12458  train_12458  #Person1#: You look a bit unhappy today. What'...   \n",
       "12459  train_12459  #Person1#: Mom, I'm flying to visit uncle Lee'...   \n",
       "\n",
       "                                                 summary              topic  \n",
       "0      Mr. Smith's getting a check-up, and Doctor Haw...     get a check-up  \n",
       "1      Mrs Parker takes Ricky for his vaccines. Dr. P...           vaccines  \n",
       "2      #Person1#'s looking for a set of keys and asks...          find keys  \n",
       "3      #Person1#'s angry because #Person2# didn't tel...  have a girlfriend  \n",
       "4      Malik invites Nikki to dance. Nikki agrees if ...              dance  \n",
       "...                                                  ...                ...  \n",
       "12455  Tan Ling picks Mr. Green up who is easily reco...    pick up someone  \n",
       "12456  #Person1# and #Person2# plan to take the under...  conference center  \n",
       "12457  #Person2# rents a small car for 5 days with th...         rent a car  \n",
       "12458  #Person2#'s mom lost her job. #Person2# hopes ...         job losing  \n",
       "12459  #Person1# asks for #Person2#'s idea of packing...       baggage pack  \n",
       "\n",
       "[12460 rows x 4 columns]"
      ]
     },
     "execution_count": 12,
     "metadata": {},
     "output_type": "execute_result"
    }
   ],
   "source": [
    "df"
   ]
  },
  {
   "cell_type": "code",
   "execution_count": 13,
   "id": "19f67828-c31e-41cb-b2cc-69372fb24a2a",
   "metadata": {},
   "outputs": [
    {
     "name": "stdout",
     "output_type": "stream",
     "text": [
      "Requirement already satisfied: spacy in ./anaconda3/lib/python3.10/site-packages (3.8.2)\n",
      "Requirement already satisfied: spacy-legacy<3.1.0,>=3.0.11 in ./anaconda3/lib/python3.10/site-packages (from spacy) (3.0.12)\n",
      "Requirement already satisfied: spacy-loggers<2.0.0,>=1.0.0 in ./anaconda3/lib/python3.10/site-packages (from spacy) (1.0.5)\n",
      "Requirement already satisfied: murmurhash<1.1.0,>=0.28.0 in ./anaconda3/lib/python3.10/site-packages (from spacy) (1.0.11)\n",
      "Requirement already satisfied: cymem<2.1.0,>=2.0.2 in ./anaconda3/lib/python3.10/site-packages (from spacy) (2.0.10)\n",
      "Requirement already satisfied: preshed<3.1.0,>=3.0.2 in ./anaconda3/lib/python3.10/site-packages (from spacy) (3.0.9)\n",
      "Requirement already satisfied: thinc<8.4.0,>=8.3.0 in ./anaconda3/lib/python3.10/site-packages (from spacy) (8.3.2)\n",
      "Requirement already satisfied: wasabi<1.2.0,>=0.9.1 in ./anaconda3/lib/python3.10/site-packages (from spacy) (1.1.3)\n",
      "Requirement already satisfied: srsly<3.0.0,>=2.4.3 in ./anaconda3/lib/python3.10/site-packages (from spacy) (2.4.8)\n",
      "Requirement already satisfied: catalogue<2.1.0,>=2.0.6 in ./anaconda3/lib/python3.10/site-packages (from spacy) (2.0.10)\n",
      "Requirement already satisfied: weasel<0.5.0,>=0.1.0 in ./anaconda3/lib/python3.10/site-packages (from spacy) (0.4.1)\n",
      "Requirement already satisfied: typer<1.0.0,>=0.3.0 in ./anaconda3/lib/python3.10/site-packages (from spacy) (0.9.0)\n",
      "Requirement already satisfied: tqdm<5.0.0,>=4.38.0 in ./anaconda3/lib/python3.10/site-packages (from spacy) (4.66.5)\n",
      "Requirement already satisfied: requests<3.0.0,>=2.13.0 in ./anaconda3/lib/python3.10/site-packages (from spacy) (2.32.3)\n",
      "Requirement already satisfied: pydantic!=1.8,!=1.8.1,<3.0.0,>=1.7.4 in ./anaconda3/lib/python3.10/site-packages (from spacy) (2.8.2)\n",
      "Requirement already satisfied: jinja2 in ./anaconda3/lib/python3.10/site-packages (from spacy) (3.1.4)\n",
      "Requirement already satisfied: setuptools in ./anaconda3/lib/python3.10/site-packages (from spacy) (75.1.0)\n",
      "Requirement already satisfied: packaging>=20.0 in ./anaconda3/lib/python3.10/site-packages (from spacy) (24.1)\n",
      "Requirement already satisfied: langcodes<4.0.0,>=3.2.0 in ./anaconda3/lib/python3.10/site-packages (from spacy) (3.5.0)\n",
      "Requirement already satisfied: numpy>=1.19.0 in ./anaconda3/lib/python3.10/site-packages (from spacy) (2.0.2)\n",
      "Requirement already satisfied: language-data>=1.2 in ./anaconda3/lib/python3.10/site-packages (from langcodes<4.0.0,>=3.2.0->spacy) (1.3.0)\n",
      "Requirement already satisfied: annotated-types>=0.4.0 in ./anaconda3/lib/python3.10/site-packages (from pydantic!=1.8,!=1.8.1,<3.0.0,>=1.7.4->spacy) (0.6.0)\n",
      "Requirement already satisfied: pydantic-core==2.20.1 in ./anaconda3/lib/python3.10/site-packages (from pydantic!=1.8,!=1.8.1,<3.0.0,>=1.7.4->spacy) (2.20.1)\n",
      "Requirement already satisfied: typing-extensions>=4.6.1 in ./anaconda3/lib/python3.10/site-packages (from pydantic!=1.8,!=1.8.1,<3.0.0,>=1.7.4->spacy) (4.11.0)\n",
      "Requirement already satisfied: charset-normalizer<4,>=2 in ./anaconda3/lib/python3.10/site-packages (from requests<3.0.0,>=2.13.0->spacy) (3.3.2)\n",
      "Requirement already satisfied: idna<4,>=2.5 in ./anaconda3/lib/python3.10/site-packages (from requests<3.0.0,>=2.13.0->spacy) (3.7)\n",
      "Requirement already satisfied: urllib3<3,>=1.21.1 in ./anaconda3/lib/python3.10/site-packages (from requests<3.0.0,>=2.13.0->spacy) (2.2.3)\n",
      "Requirement already satisfied: certifi>=2017.4.17 in ./anaconda3/lib/python3.10/site-packages (from requests<3.0.0,>=2.13.0->spacy) (2024.8.30)\n",
      "Requirement already satisfied: blis<1.1.0,>=1.0.0 in ./anaconda3/lib/python3.10/site-packages (from thinc<8.4.0,>=8.3.0->spacy) (1.0.1)\n",
      "Requirement already satisfied: confection<1.0.0,>=0.0.1 in ./anaconda3/lib/python3.10/site-packages (from thinc<8.4.0,>=8.3.0->spacy) (0.1.5)\n",
      "Requirement already satisfied: click<9.0.0,>=7.1.1 in ./anaconda3/lib/python3.10/site-packages (from typer<1.0.0,>=0.3.0->spacy) (8.1.7)\n",
      "Requirement already satisfied: cloudpathlib<1.0.0,>=0.7.0 in ./anaconda3/lib/python3.10/site-packages (from weasel<0.5.0,>=0.1.0->spacy) (0.20.0)\n",
      "Requirement already satisfied: smart-open<8.0.0,>=5.2.1 in ./anaconda3/lib/python3.10/site-packages (from weasel<0.5.0,>=0.1.0->spacy) (5.2.1)\n",
      "Requirement already satisfied: MarkupSafe>=2.0 in ./anaconda3/lib/python3.10/site-packages (from jinja2->spacy) (2.1.3)\n",
      "Requirement already satisfied: marisa-trie>=1.1.0 in ./anaconda3/lib/python3.10/site-packages (from language-data>=1.2->langcodes<4.0.0,>=3.2.0->spacy) (1.2.1)\n"
     ]
    }
   ],
   "source": [
    "!pip install spacy"
   ]
  },
  {
   "cell_type": "code",
   "execution_count": 14,
   "id": "6d547e86-0a4d-42e3-a078-ae340a4876d2",
   "metadata": {},
   "outputs": [
    {
     "name": "stderr",
     "output_type": "stream",
     "text": [
      "/dgxa_home/se22uari173/anaconda3/lib/python3.10/site-packages/torch/cuda/__init__.py:129: UserWarning: CUDA initialization: The NVIDIA driver on your system is too old (found version 11040). Please update your GPU driver by downloading and installing a new version from the URL: http://www.nvidia.com/Download/index.aspx Alternatively, go to: https://pytorch.org to install a PyTorch version that has been compiled with your version of the CUDA driver. (Triggered internally at ../c10/cuda/CUDAFunctions.cpp:108.)\n",
      "  return torch._C._cuda_getDeviceCount() > 0\n"
     ]
    }
   ],
   "source": [
    "import spacy"
   ]
  },
  {
   "cell_type": "code",
   "execution_count": 15,
   "id": "e59f7dda-04a9-4e99-ad6b-7e249be36bc0",
   "metadata": {},
   "outputs": [
    {
     "name": "stderr",
     "output_type": "stream",
     "text": [
      "/dgxa_home/se22uari173/anaconda3/lib/python3.10/site-packages/transformers/utils/generic.py:441: FutureWarning: `torch.utils._pytree._register_pytree_node` is deprecated. Please use `torch.utils._pytree.register_pytree_node` instead.\n",
      "  _torch_pytree._register_pytree_node(\n",
      "/dgxa_home/se22uari173/anaconda3/lib/python3.10/site-packages/transformers/utils/generic.py:309: FutureWarning: `torch.utils._pytree._register_pytree_node` is deprecated. Please use `torch.utils._pytree.register_pytree_node` instead.\n",
      "  _torch_pytree._register_pytree_node(\n"
     ]
    }
   ],
   "source": [
    "nlp = spacy.load(\"en_core_web_sm\")"
   ]
  },
  {
   "cell_type": "code",
   "execution_count": 16,
   "id": "e81c3319-d2dd-43e4-8e9a-8ca680f5f0fb",
   "metadata": {},
   "outputs": [],
   "source": [
    "import torch"
   ]
  },
  {
   "cell_type": "code",
   "execution_count": 17,
   "id": "cf34c2e9-9020-48fd-a37f-fdc661e272e4",
   "metadata": {},
   "outputs": [],
   "source": [
    "device = torch.device(\"cuda\" if torch.cuda.is_available() else \"cpu\")"
   ]
  },
  {
   "cell_type": "code",
   "execution_count": 18,
   "id": "aa66bd59-2756-4bbb-8f92-34a2e9038d73",
   "metadata": {},
   "outputs": [],
   "source": [
    "def preprocess_text(text):\n",
    "    doc = nlp(text)\n",
    "    cleaned_tokens = [\n",
    "        token.text for token in doc if not token.is_punct and not token.is_space\n",
    "    ]\n",
    "    return \" \".join(cleaned_tokens)"
   ]
  },
  {
   "cell_type": "code",
   "execution_count": 19,
   "id": "70dabeb5-1157-46ce-a178-1182bafa9c23",
   "metadata": {},
   "outputs": [
    {
     "name": "stdout",
     "output_type": "stream",
     "text": [
      "1584.0\n"
     ]
    }
   ],
   "source": [
    "import numpy as np\n",
    "percent = 97\n",
    "print(np.percentile([len(x) for x in df['dialogue']],percent))"
   ]
  },
  {
   "cell_type": "code",
   "execution_count": 20,
   "id": "46c33074-fe86-43b0-b150-316da9f759f2",
   "metadata": {},
   "outputs": [
    {
     "name": "stdout",
     "output_type": "stream",
     "text": [
      "283.0\n"
     ]
    }
   ],
   "source": [
    "print(np.percentile([len(x) for x in df['summary']],percent))"
   ]
  },
  {
   "cell_type": "code",
   "execution_count": 21,
   "id": "2dbd3df5-1826-4e77-a035-8361ee37917c",
   "metadata": {},
   "outputs": [],
   "source": [
    "max_input_seq_length = 1584\n",
    "max_output_seq_length = 290"
   ]
  },
  {
   "cell_type": "code",
   "execution_count": 22,
   "id": "0f9a6c9d-dbb0-4980-8732-ba4bc787903d",
   "metadata": {},
   "outputs": [],
   "source": [
    "dialogue_list = list(df['dialogue'])"
   ]
  },
  {
   "cell_type": "code",
   "execution_count": 23,
   "id": "e2986acc-02c4-4257-a84e-f81e3c008046",
   "metadata": {},
   "outputs": [],
   "source": [
    "summary_list = list(df['summary'])"
   ]
  },
  {
   "cell_type": "code",
   "execution_count": 24,
   "id": "2dd2b307-6375-42da-96a6-f84ccee80d48",
   "metadata": {},
   "outputs": [],
   "source": [
    "for i in range(len(dialogue_list)):\n",
    "    dialogue_list[i] = preprocess_text(dialogue_list[i])\n",
    "for i in range(len(summary_list)):\n",
    "    summary_list[i] = preprocess_text(summary_list[i])"
   ]
  },
  {
   "cell_type": "code",
   "execution_count": 25,
   "id": "5a358fb4-ef4a-4cd2-9232-692b9407a44a",
   "metadata": {},
   "outputs": [],
   "source": [
    "maxi = 0\n",
    "for i in dialogue_list:\n",
    "    if(len(i)>maxi):\n",
    "        maxi = len(i)"
   ]
  },
  {
   "cell_type": "code",
   "execution_count": 26,
   "id": "77e1378f-734e-49fa-8c1f-4dfc436683e5",
   "metadata": {},
   "outputs": [
    {
     "data": {
      "text/plain": [
       "4877"
      ]
     },
     "execution_count": 26,
     "metadata": {},
     "output_type": "execute_result"
    }
   ],
   "source": [
    "maxi"
   ]
  },
  {
   "cell_type": "code",
   "execution_count": 27,
   "id": "56611b1c-66e2-4ea9-b866-22ef9a510dab",
   "metadata": {},
   "outputs": [],
   "source": [
    "def is_validlength(paragraph,max_seq_length):\n",
    "    return(len(paragraph)<max_input_seq_length)\n",
    "valid_textsummaries_idx = []\n",
    "for i in range(len(df['summary'])):\n",
    "    dialogue,summary = dialogue_list[i],summary_list[i]\n",
    "    if(is_validlength(dialogue,max_input_seq_length) and is_validlength(summary,max_output_seq_length)):\n",
    "        valid_textsummaries_idx.append(i)"
   ]
  },
  {
   "cell_type": "code",
   "execution_count": 28,
   "id": "3288e47c-df5d-4755-beeb-8432488b5097",
   "metadata": {},
   "outputs": [
    {
     "data": {
      "text/plain": [
       "12180"
      ]
     },
     "execution_count": 28,
     "metadata": {},
     "output_type": "execute_result"
    }
   ],
   "source": [
    "len(valid_textsummaries_idx)"
   ]
  },
  {
   "cell_type": "code",
   "execution_count": 29,
   "id": "235bff57-c3cd-4652-8f91-5e7aeb159ae5",
   "metadata": {},
   "outputs": [],
   "source": [
    "dialogue_list_new = []\n",
    "summary_list_new = []\n",
    "for i in valid_textsummaries_idx:\n",
    "    dialogue_list_new.append(dialogue_list[i])\n",
    "    summary_list_new.append(summary_list[i])"
   ]
  },
  {
   "cell_type": "code",
   "execution_count": 30,
   "id": "020addc2-5dfa-4385-9ea1-f91e1aed7e78",
   "metadata": {},
   "outputs": [],
   "source": [
    "from torch.utils.data import Dataset,DataLoader"
   ]
  },
  {
   "cell_type": "code",
   "execution_count": 31,
   "id": "ee5b3026-5f1d-4658-83d6-fdecb29cce67",
   "metadata": {},
   "outputs": [],
   "source": [
    "class TextDataset(Dataset):\n",
    "    def __init__(self,dialogues,summaries):\n",
    "        self.dialogues = dialogues\n",
    "        self.summaries = summaries\n",
    "    def __len__(self):\n",
    "        return len(self.summaries)\n",
    "    def __getitem__(self,j):\n",
    "        return self.dialogues[j],self.summaries[j]"
   ]
  },
  {
   "cell_type": "code",
   "execution_count": 32,
   "id": "2f5168be-0f47-4ddc-8112-ec677ddc019f",
   "metadata": {},
   "outputs": [],
   "source": [
    "data = TextDataset(dialogue_list_new,summary_list_new)"
   ]
  },
  {
   "cell_type": "code",
   "execution_count": 33,
   "id": "0443200a-2b99-46b7-b39d-010415e3230b",
   "metadata": {},
   "outputs": [],
   "source": [
    "data = TextDataset(dialogue_list_new, summary_list_new)\n",
    "batch_size = 1\n",
    "train_dataset = DataLoader(data, batch_size=batch_size, shuffle=True)"
   ]
  },
  {
   "cell_type": "code",
   "execution_count": 34,
   "id": "4157b212-ad4e-4f3c-87a2-67e2887a810e",
   "metadata": {},
   "outputs": [
    {
     "name": "stdout",
     "output_type": "stream",
     "text": [
      "('Adam Smith gives Lily Brown her umbrella They discover that they live on the same floor of the same building They introduce themselves',)\n"
     ]
    }
   ],
   "source": [
    "c = 1\n",
    "for batch in train_dataset:\n",
    "    dialogues,summaries = batch\n",
    "    print(summaries)\n",
    "    if(c==1):\n",
    "        break"
   ]
  },
  {
   "cell_type": "code",
   "execution_count": 35,
   "id": "41763abc-502a-439c-aab2-e57b1586e786",
   "metadata": {},
   "outputs": [
    {
     "name": "stdout",
     "output_type": "stream",
     "text": [
      "Requirement already satisfied: transformers in ./anaconda3/lib/python3.10/site-packages (4.36.2)\n",
      "Requirement already satisfied: filelock in ./anaconda3/lib/python3.10/site-packages (from transformers) (3.13.1)\n",
      "Requirement already satisfied: huggingface-hub<1.0,>=0.19.3 in ./anaconda3/lib/python3.10/site-packages (from transformers) (0.26.5)\n",
      "Requirement already satisfied: numpy>=1.17 in ./anaconda3/lib/python3.10/site-packages (from transformers) (2.0.2)\n",
      "Requirement already satisfied: packaging>=20.0 in ./anaconda3/lib/python3.10/site-packages (from transformers) (24.1)\n",
      "Requirement already satisfied: pyyaml>=5.1 in ./anaconda3/lib/python3.10/site-packages (from transformers) (6.0.2)\n",
      "Requirement already satisfied: regex!=2019.12.17 in ./anaconda3/lib/python3.10/site-packages (from transformers) (2024.9.11)\n",
      "Requirement already satisfied: requests in ./anaconda3/lib/python3.10/site-packages (from transformers) (2.32.3)\n",
      "Requirement already satisfied: tokenizers<0.19,>=0.14 in ./anaconda3/lib/python3.10/site-packages (from transformers) (0.15.2)\n",
      "Requirement already satisfied: safetensors>=0.3.1 in ./anaconda3/lib/python3.10/site-packages (from transformers) (0.4.5)\n",
      "Requirement already satisfied: tqdm>=4.27 in ./anaconda3/lib/python3.10/site-packages (from transformers) (4.66.5)\n",
      "Requirement already satisfied: fsspec>=2023.5.0 in ./anaconda3/lib/python3.10/site-packages (from huggingface-hub<1.0,>=0.19.3->transformers) (2024.6.1)\n",
      "Requirement already satisfied: typing-extensions>=3.7.4.3 in ./anaconda3/lib/python3.10/site-packages (from huggingface-hub<1.0,>=0.19.3->transformers) (4.11.0)\n",
      "Requirement already satisfied: charset-normalizer<4,>=2 in ./anaconda3/lib/python3.10/site-packages (from requests->transformers) (3.3.2)\n",
      "Requirement already satisfied: idna<4,>=2.5 in ./anaconda3/lib/python3.10/site-packages (from requests->transformers) (3.7)\n",
      "Requirement already satisfied: urllib3<3,>=1.21.1 in ./anaconda3/lib/python3.10/site-packages (from requests->transformers) (2.2.3)\n",
      "Requirement already satisfied: certifi>=2017.4.17 in ./anaconda3/lib/python3.10/site-packages (from requests->transformers) (2024.8.30)\n"
     ]
    }
   ],
   "source": [
    "!pip install transformers"
   ]
  },
  {
   "cell_type": "code",
   "execution_count": 36,
   "id": "4cec4828-5225-4f21-97f1-9d0c6c1165da",
   "metadata": {},
   "outputs": [
    {
     "name": "stdout",
     "output_type": "stream",
     "text": [
      "Requirement already satisfied: sentencepiece in ./anaconda3/lib/python3.10/site-packages (0.2.0)\n"
     ]
    }
   ],
   "source": [
    "!pip install sentencepiece"
   ]
  },
  {
   "cell_type": "code",
   "execution_count": 38,
   "id": "dbff3080-540f-434f-81a8-2ef3f29be80d",
   "metadata": {},
   "outputs": [
    {
     "name": "stderr",
     "output_type": "stream",
     "text": [
      "Special tokens have been added in the vocabulary, make sure the associated word embeddings are fine-tuned or trained.\n"
     ]
    }
   ],
   "source": [
    "from transformers import T5Tokenizer\n",
    "tokenizer = T5Tokenizer.from_pretrained(\"t5-base\")"
   ]
  },
  {
   "cell_type": "code",
   "execution_count": 39,
   "id": "f2f58df2-8c05-4ff4-9be0-ae9d805f24ff",
   "metadata": {},
   "outputs": [
    {
     "data": {
      "text/plain": [
       "12180"
      ]
     },
     "execution_count": 39,
     "metadata": {},
     "output_type": "execute_result"
    }
   ],
   "source": [
    "len(train_dataset)"
   ]
  },
  {
   "cell_type": "code",
   "execution_count": 40,
   "id": "b3a105b5-a76a-4a32-9e10-196cf84089bf",
   "metadata": {},
   "outputs": [
    {
     "name": "stdout",
     "output_type": "stream",
     "text": [
      "433\n"
     ]
    }
   ],
   "source": [
    "max = 0\n",
    "for i in dialogue_list_new:\n",
    "    if(max<len(tokenizer(i)['input_ids'])):\n",
    "        max = len(tokenizer(i)['input_ids'])\n",
    "print(max)"
   ]
  },
  {
   "cell_type": "code",
   "execution_count": 41,
   "id": "82662540-f8d3-45a7-97f8-d16969fb86b0",
   "metadata": {},
   "outputs": [
    {
     "name": "stdout",
     "output_type": "stream",
     "text": [
      "96\n"
     ]
    }
   ],
   "source": [
    "max = 0\n",
    "for i in summary_list_new:\n",
    "    if(max<len(tokenizer(i)['input_ids'])):\n",
    "        max = len(tokenizer(i)['input_ids'])\n",
    "print(max)"
   ]
  },
  {
   "cell_type": "code",
   "execution_count": 42,
   "id": "d28dbb20-f51e-4643-8d19-4e26496b45b8",
   "metadata": {},
   "outputs": [
    {
     "data": {
      "text/plain": [
       "2"
      ]
     },
     "execution_count": 42,
     "metadata": {},
     "output_type": "execute_result"
    }
   ],
   "source": [
    "len(batch)"
   ]
  },
  {
   "cell_type": "code",
   "execution_count": 43,
   "id": "536912c2-4b5b-4ed6-8c1d-3d5d64fa03bf",
   "metadata": {},
   "outputs": [],
   "source": [
    "input_ids = []\n",
    "output_ids = []\n",
    "max_input_seq_length = 450\n",
    "max_output_seq_length = 450\n",
    "for batch in train_dataset:\n",
    "    if(len(batch)==2):\n",
    "        dialogues, summaries = batch \n",
    "        tokenized_dialogues = tokenizer(list(dialogues),max_length=max_input_seq_length,padding='max_length',return_tensors='pt',add_special_tokens=False)\n",
    "        tokenized_summaries = tokenizer(list(summaries),max_length=max_output_seq_length,padding='max_length',return_tensors='pt',add_special_tokens=True)\n",
    "        input_ids.append(tokenized_dialogues['input_ids'])\n",
    "        output_ids.append(tokenized_summaries['input_ids'])"
   ]
  },
  {
   "cell_type": "code",
   "execution_count": 44,
   "id": "822fcc5a-a9ce-4dd7-9371-652e0ba88fbc",
   "metadata": {},
   "outputs": [],
   "source": [
    "tensor_tokenized_inputs = torch.cat(input_ids,dim=0)"
   ]
  },
  {
   "cell_type": "code",
   "execution_count": 45,
   "id": "beb27bfb-cef9-4486-a30c-65f0673f50ba",
   "metadata": {},
   "outputs": [],
   "source": [
    "tensor_tokenized_outputs = torch.cat(output_ids,dim=0)"
   ]
  },
  {
   "cell_type": "code",
   "execution_count": 46,
   "id": "485208ba-0e66-4f78-b16f-8f45bb2cbd5b",
   "metadata": {},
   "outputs": [],
   "source": [
    "import math\n",
    "from torch import nn\n",
    "import torch.nn.functional as func"
   ]
  },
  {
   "cell_type": "code",
   "execution_count": 47,
   "id": "92619108-25f5-462b-9358-c737ade1cb0b",
   "metadata": {},
   "outputs": [],
   "source": [
    "class Multiheadattention(nn.Module):\n",
    "    def __init__(self,weights_dim,n_heads):\n",
    "        super().__init__()\n",
    "        self.weights_dim = weights_dim\n",
    "        self.n_heads = n_heads\n",
    "        self.head_dimensions = weights_dim//n_heads\n",
    "        self.qkv_matrices = nn.Linear(weights_dim,3*weights_dim)\n",
    "        self.linear_layer = nn.Linear(weights_dim,weights_dim)\n",
    "    def forward(self,x,mask):\n",
    "        batch,maxseqlength,weight_dim = x.size()\n",
    "        qkv = self.qkv_matrices(x)\n",
    "        qkv = qkv.reshape(batch,maxseqlength,self.n_heads,3*self.head_dimensions)\n",
    "        qkv = qkv.permute(0,2,1,3)\n",
    "        q,k,v = qkv.chunk(3,dim=-1)\n",
    "        k_transpose = k.transpose(-1,-2)\n",
    "        product = torch.matmul(q,k_transpose)\n",
    "        product = product/math.sqrt(q.size()[-1])\n",
    "        if mask is not None:\n",
    "            product = product+mask\n",
    "        attention_scores = func.softmax(product,dim=-1)\n",
    "        attentionintoV = torch.matmul(attention_scores,v)\n",
    "        n = (self.n_heads*self.head_dimensions)\n",
    "        output = self.linear_layer(attentionintoV.reshape(batch,maxseqlength,n))\n",
    "        return output"
   ]
  },
  {
   "cell_type": "code",
   "execution_count": 48,
   "id": "f9270224-8b1f-41e0-8335-6e021f39184e",
   "metadata": {},
   "outputs": [],
   "source": [
    "class LayerNormalization(torch.nn.Module):\n",
    "    def __init__(self,eps):\n",
    "        super(LayerNormalization, self).__init__()\n",
    "        self.eps = eps \n",
    "    def forward(self,inp):\n",
    "        mean = inp.mean(dim=-1, keepdim=True) \n",
    "        var = ((inp - mean) ** 2).mean(dim=-1, keepdim=True)\n",
    "        std = torch.sqrt(var + self.eps)\n",
    "        y = (inp - mean) / std\n",
    "        return y"
   ]
  },
  {
   "cell_type": "code",
   "execution_count": 49,
   "id": "9761693e-3eb9-47ec-9f2d-f470d4c918d0",
   "metadata": {},
   "outputs": [],
   "source": [
    "class feedfowardlayer(nn.Module):\n",
    "    def __init__(self,weights_dims,hidden_dim,drop_prob):\n",
    "        super(feedfowardlayer, self).__init__()\n",
    "        self.weights_dims = weights_dims\n",
    "        self.hidden_dims = hidden_dim\n",
    "        self.linearlayer1 = nn.Linear(self.weights_dims,self.hidden_dims)\n",
    "        self.relu = nn.ReLU()\n",
    "        self.linearlayer2 = nn.Linear(self.hidden_dims,self.weights_dims)\n",
    "        self.drop_probability = drop_prob\n",
    "        self.drop_neurons = nn.Dropout(p=self.drop_probability)\n",
    "    def forward(self,x):\n",
    "        out = self.linearlayer1(x)\n",
    "        out = self.relu(out)\n",
    "        out = self.drop_neurons(out)\n",
    "        out = self.linearlayer2(out)\n",
    "        return out"
   ]
  },
  {
   "cell_type": "code",
   "execution_count": 50,
   "id": "9f5254d8-4f90-4207-8506-604cb0457727",
   "metadata": {},
   "outputs": [],
   "source": [
    "class Subencoder(nn.Module):\n",
    "    def __init__(self,weight_dim,ff_hidden,n_heads,drop_probability):\n",
    "        super(Subencoder,self).__init__()\n",
    "        self.attention = Multiheadattention(weight_dim,n_heads)\n",
    "        self.norm = LayerNormalization(1e-6)\n",
    "        self.dropout1 = nn.Dropout(p = drop_probability)\n",
    "        self.ffd = feedfowardlayer(weight_dim,ff_hidden,drop_probability)\n",
    "        self.norm2 = LayerNormalization(1e-6)\n",
    "        self.dropout2 = nn.Dropout(p = drop_probability)\n",
    "    def forward(self,x,mask):\n",
    "        residual = x\n",
    "        x = self.attention(x,mask)\n",
    "        x = self.dropout1(x)\n",
    "        x = self.norm(x+residual)\n",
    "        residual = x\n",
    "        x = self.ffd(x)\n",
    "        x = self.dropout2(x)\n",
    "        x = self.norm2(x+residual)\n",
    "        return x"
   ]
  },
  {
   "cell_type": "code",
   "execution_count": 51,
   "id": "eea75ef1-6bc7-4263-a3b2-065fc5a0a89f",
   "metadata": {},
   "outputs": [],
   "source": [
    "class Sequentialencoder(nn.Sequential):\n",
    "    def foward(self,x,mask):\n",
    "        self.x = x\n",
    "        self.mask = mask\n",
    "        for module in self._modules.values():\n",
    "            x = module(self.x,self.mask)\n",
    "        return y"
   ]
  },
  {
   "cell_type": "code",
   "execution_count": 52,
   "id": "f20ea630-5a9c-4716-a7e3-1b95afbcd57b",
   "metadata": {},
   "outputs": [],
   "source": [
    "class Encoder(nn.Module):\n",
    "    def __init__(self,weight_dim,ff_hidden,n_heads,layers,drop_probability):\n",
    "        super(Encoder, self).__init__()\n",
    "        encoded_layers = []\n",
    "        for k in range(layers): \n",
    "            l = Subencoder(weight_dim, ff_hidden,n_heads,drop_probability)\n",
    "            encoded_layers.append(l)\n",
    "        self.layers = nn.ModuleList(encoded_layers)\n",
    "    def forward(self, x, mask=None):\n",
    "        for layer in self.layers:\n",
    "            x = layer(x, mask)\n",
    "        return x"
   ]
  },
  {
   "cell_type": "code",
   "execution_count": 53,
   "id": "ccf25215-9585-40d3-a495-57047eb3d9cd",
   "metadata": {},
   "outputs": [],
   "source": [
    "class Multiheadcrossattention(nn.Module):\n",
    "    def __init__(self,weights_dim,n_heads):\n",
    "        super().__init__()\n",
    "        self.weights_dim = weights_dim\n",
    "        self.n_heads = n_heads\n",
    "        self.head_dimensions = weights_dim//n_heads\n",
    "        self.kv_matrices = nn.Linear(weights_dim,2*weights_dim)\n",
    "        self.q_matrix = nn.Linear(weights_dim,weights_dim)\n",
    "        self.linear_layer = nn.Linear(weights_dim,weights_dim)\n",
    "    def forward(self,y,x,mask):\n",
    "        batches,maxseqlength,weight_dim = x.size()\n",
    "        kv = self.kv_matrices(x)\n",
    "        q = self.q_matrix(y)\n",
    "        kv = kv.reshape(batches,maxseqlength,self.n_heads,2*self.head_dimensions)\n",
    "        kv = kv.permute(0,2,1,3)\n",
    "        k,v = kv.chunk(2,dim=-1)\n",
    "        q = q.reshape(batches,maxseqlength,self.n_heads,self.head_dimensions)\n",
    "        q = q.permute(0,2,1,3)\n",
    "        k_transpose = k.transpose(-1,-2)\n",
    "        product = torch.matmul(q,k_transpose)\n",
    "        product = product/math.sqrt(q.size()[-1])\n",
    "        if mask is not None:\n",
    "            product = product+mask\n",
    "        attention_scores = func.softmax(product,dim=-1)\n",
    "        attentionintoV = torch.matmul(attention_scores,v)\n",
    "        n = (self.n_heads*self.head_dimensions)\n",
    "        output = self.linear_layer(attentionintoV.reshape(batches,maxseqlength,n))\n",
    "        return output"
   ]
  },
  {
   "cell_type": "code",
   "execution_count": 54,
   "id": "55fb5e06-8ac2-454f-bbcf-54840b565c51",
   "metadata": {},
   "outputs": [],
   "source": [
    "class Maskedattention(nn.Module):\n",
    "    def __init__(self,weights_dim,n_heads):\n",
    "        super().__init__()\n",
    "        self.weights_dim = weights_dim\n",
    "        self.n_heads = n_heads\n",
    "        self.head_dimensions = weights_dim//n_heads\n",
    "        self.qkv_matrices = nn.Linear(weights_dim,3*weights_dim)\n",
    "        self.linear_layer = nn.Linear(weights_dim,weights_dim)\n",
    "    def forward(self,x,mask,padmask):\n",
    "        batch,maxseqlength,weight_dim = x.size()\n",
    "        qkv = self.qkv_matrices(x)\n",
    "        qkv = qkv.reshape(batch,maxseqlength,self.n_heads,3*self.head_dimensions)\n",
    "        qkv = qkv.permute(0,2,1,3)\n",
    "        q,k,v = qkv.chunk(3,dim=-1)\n",
    "        k_transpose = k.transpose(-1,-2)\n",
    "        product = torch.matmul(q,k_transpose)\n",
    "        product = product/math.sqrt(q.size()[-1])\n",
    "        if mask is not None:\n",
    "            product = product+mask+padmask\n",
    "        attention_scores = func.softmax(product,dim=-1)\n",
    "        attentionintoV = torch.matmul(attention_scores,v)\n",
    "        n = (self.n_heads*self.head_dimensions)\n",
    "        output = self.linear_layer(attentionintoV.reshape(batch,maxseqlength,n))\n",
    "        return output"
   ]
  },
  {
   "cell_type": "code",
   "execution_count": 55,
   "id": "ce970b2e-9272-4306-867a-bc30a7ef5981",
   "metadata": {},
   "outputs": [],
   "source": [
    "class Subdecoder(nn.Module):\n",
    "    def __init__(self,weight_dim,ff_hidden,n_heads,drop_probability):\n",
    "        super(Subdecoder,self).__init__()\n",
    "        self.maskedattention = Maskedattention(weight_dim,n_heads)\n",
    "        self.norm = LayerNormalization(1e-6)\n",
    "        self.dropout1 = nn.Dropout(p = drop_probability)\n",
    "        self.Multicrossattention = Multiheadcrossattention(weight_dim,n_heads)\n",
    "        self.norm2 = LayerNormalization(1e-6)\n",
    "        self.dropout2 = nn.Dropout(p = drop_probability)\n",
    "        self.ffd = feedfowardlayer(weight_dim,ff_hidden,drop_probability)\n",
    "        self.norm3 = LayerNormalization(1e-6)\n",
    "        self.dropout3 = nn.Dropout(p = drop_probability)\n",
    "    def forward(self,x,y,mask,padmask,crossmask):\n",
    "        residual = y\n",
    "        y = self.maskedattention(y,mask,padmask)\n",
    "        y = self.dropout1(y)\n",
    "        y = self.norm(y+residual)\n",
    "        residual = y\n",
    "        y = self.Multicrossattention(y,x,crossmask)\n",
    "        y = self.dropout2(y)\n",
    "        y = self.norm2(y+residual)\n",
    "        residual = y\n",
    "        y = self.ffd(y)\n",
    "        y = self.dropout3(y)\n",
    "        y = self.norm3(y+residual)\n",
    "        return y"
   ]
  },
  {
   "cell_type": "code",
   "execution_count": 56,
   "id": "4e9ad2cd-87c2-4f5c-a7ba-78e9ebe3411a",
   "metadata": {},
   "outputs": [],
   "source": [
    "class Sequentialdecoder(nn.Sequential):\n",
    "    def forward(self,x,y,mask,padmask,crossattentpadmask):\n",
    "        for module in self._modules.values():\n",
    "            y = module(x,y,mask,padmask,crossattentpadmask)\n",
    "        return y"
   ]
  },
  {
   "cell_type": "code",
   "execution_count": 57,
   "id": "d4b26908-bb2d-4ee7-b388-3c514e993db7",
   "metadata": {},
   "outputs": [],
   "source": [
    "class Decoder(nn.Module):\n",
    "    def __init__(self,weight_dim,ff_hidden,n_heads,layers,drop_probability):\n",
    "        super().__init__()\n",
    "        decoded_layers = []\n",
    "        for k in range(layers):\n",
    "            l = Subdecoder(weight_dim,ff_hidden,n_heads,drop_probability)\n",
    "            decoded_layers.append(l)\n",
    "        self.layers = Sequentialdecoder(*[Subdecoder(weight_dim,ff_hidden,n_heads,drop_probability)])\n",
    "    def forward(self,x,y,mask,padmask,crossattentpadmask):\n",
    "        resdecoder = self.layers(x,y,mask,padmask,crossattentpadmask)\n",
    "        return resdecoder"
   ]
  },
  {
   "cell_type": "code",
   "execution_count": 58,
   "id": "1c56d80d-072e-454d-98d7-0241279c8190",
   "metadata": {},
   "outputs": [],
   "source": [
    "vocab_size = tokenizer.vocab_size"
   ]
  },
  {
   "cell_type": "code",
   "execution_count": 59,
   "id": "614e39c8-d0b9-4181-a553-d97e881a0d9f",
   "metadata": {},
   "outputs": [
    {
     "data": {
      "text/plain": [
       "32000"
      ]
     },
     "execution_count": 59,
     "metadata": {},
     "output_type": "execute_result"
    }
   ],
   "source": [
    "vocab_size"
   ]
  },
  {
   "cell_type": "code",
   "execution_count": 60,
   "id": "6830e418-80f1-41c5-a78f-3b3357b0b2f6",
   "metadata": {},
   "outputs": [],
   "source": [
    "class PositionalEncodingWithFeatureTransformation(nn.Module):\n",
    "    def __init__(self, input_dim, output_dim, max_sequence_length):\n",
    "        super(PositionalEncodingWithFeatureTransformation, self).__init__()\n",
    "        self.max_sequence_length = max_sequence_length\n",
    "        self.output_dim = output_dim\n",
    "        self.linear = nn.Linear(input_dim, output_dim)\n",
    "        self.positional_embeddings = nn.Parameter(torch.zeros(max_sequence_length, output_dim), requires_grad=True)\n",
    "        self.create_positional_encodings()\n",
    "    def create_positional_encodings(self):\n",
    "        even_i = torch.arange(0, self.output_dim, 2).float()\n",
    "        denominator = torch.pow(10000, even_i / self.output_dim)\n",
    "        position = torch.arange(self.max_sequence_length).reshape(self.max_sequence_length, 1)\n",
    "        even_PE = torch.sin(position / denominator)\n",
    "        odd_PE = torch.cos(position / denominator)\n",
    "        stacked = torch.stack([even_PE, odd_PE], dim=2)\n",
    "        self.positional_embeddings.data = torch.flatten(stacked, start_dim=1, end_dim=2)\n",
    "    def forward(self, x):\n",
    "        x = self.linear(x)  \n",
    "        positional_encoded = self.positional_embeddings[:x.size(1), :].unsqueeze(0) \n",
    "        return x + positional_encoded"
   ]
  },
  {
   "cell_type": "code",
   "execution_count": 64,
   "id": "8715676b-66a3-4c34-a297-0fcf99a1d9e4",
   "metadata": {},
   "outputs": [],
   "source": [
    "class Word2VecEmbedding(nn.Module):\n",
    "    def __init__(self, vocab_size, embedding_dim):\n",
    "        super(Word2VecEmbedding, self).__init__()\n",
    "        self.embedding = nn.Embedding(vocab_size, embedding_dim)\n",
    "    def forward(self, token_ids):\n",
    "        return self.embedding(token_ids)"
   ]
  },
  {
   "cell_type": "code",
   "execution_count": 65,
   "id": "c85eae50-def6-4fd1-abd0-da0f8aecc8c6",
   "metadata": {},
   "outputs": [],
   "source": [
    "def create_padding_mask(tensor_tokenized_inputs,batch_size,seq_len,n_heads):\n",
    "    padding_mask = (tensor_tokenized_inputs != 0).float()\n",
    "    padding_mask = padding_mask.unsqueeze(0)\n",
    "    mask_2d = padding_mask.unsqueeze(1).expand(-1, n_heads, seq_len, seq_len)  \n",
    "    padding_mask_expanded = (1.0 - mask_2d) * -3.4028e+38  \n",
    "    padding_mask_expanded[mask_2d == 1.0] = 0  \n",
    "    return padding_mask_expanded"
   ]
  },
  {
   "cell_type": "code",
   "execution_count": 66,
   "id": "5bf11567-5949-4a91-8719-60eff1cc8ba9",
   "metadata": {},
   "outputs": [],
   "source": [
    "def create_padding_mask_2(tensor_tokenized_outputs_, seq_len, n_heads):\n",
    "    padding_mask = (tensor_tokenized_outputs_ == 0).float()\n",
    "    repeated_mask_350 = padding_mask.repeat(seq_len, 1)\n",
    "    repeated_mask_8 = repeated_mask_350.unsqueeze(0).unsqueeze(0).repeat(1, n_heads, 1, 1)  \n",
    "    padding_mask_expanded = repeated_mask_8 * -3.4028e+38  \n",
    "    padding_mask_expanded[padding_mask_expanded == 0] = 0  \n",
    "    return padding_mask_expanded"
   ]
  },
  {
   "cell_type": "code",
   "execution_count": 67,
   "id": "dd3c488b-7d9c-4fe7-b3f2-a69e4c10d174",
   "metadata": {},
   "outputs": [],
   "source": [
    "def create_lookahead_mask(seq_len,n_heads):\n",
    "    lookahead_mask = torch.triu(torch.ones(seq_len, seq_len), diagonal=1)  \n",
    "    lookahead_mask = lookahead_mask * -3.4028e+38  \n",
    "    lookahead_mask = lookahead_mask + torch.tril(torch.zeros(seq_len, seq_len))\n",
    "    lookahead_mask = lookahead_mask.unsqueeze(0).unsqueeze(0) \n",
    "    lookahead_mask_expanded = lookahead_mask.repeat(1, n_heads, 1, 1)  \n",
    "    return lookahead_mask_expanded"
   ]
  },
  {
   "cell_type": "code",
   "execution_count": 68,
   "id": "e424c56b-7dfe-4134-9ba5-1cd86dd5c2ff",
   "metadata": {},
   "outputs": [],
   "source": [
    "class Transformer(nn.Module):\n",
    "    def __init__(self, vocab_size, weight_dim, ff_hidden_dim, n_heads, num_layers, max_input_seq_length,max_output_seq_length):\n",
    "        super(Transformer, self).__init__()\n",
    "        num_layers = int(num_layers) \n",
    "        self.embedding = nn.Embedding(vocab_size, weight_dim)\n",
    "        self.positional_input_encoding = PositionalEncodingWithFeatureTransformation(32000,512,max_input_seq_length)\n",
    "        self.positional_output_encoding = PositionalEncodingWithFeatureTransformation(32000,512,max_output_seq_length)\n",
    "        self.encoder = Encoder(weight_dim, ff_hidden_dim, n_heads, num_layers, 0.1)\n",
    "        self.decoder = Decoder(weight_dim, ff_hidden_dim, n_heads, num_layers, 0.1)\n",
    "        self.fc_out = nn.Linear(weight_dim, vocab_size)\n",
    "    def forward(self,src,tgt,src_mask,tgt_mask,lkahd_mask,crossattention_mask):\n",
    "        enc_out = self.encoder(src,src_mask)\n",
    "        dec_out = self.decoder(tgt,enc_out,lkahd_mask,tgt_mask,crossattention_mask)\n",
    "        return self.fc_out(dec_out)"
   ]
  },
  {
   "cell_type": "code",
   "execution_count": 69,
   "id": "aeb45de6-72ac-45bf-8c9f-5d808b855594",
   "metadata": {},
   "outputs": [],
   "source": [
    "weight_dim = 512\n",
    "ff_hidden_dim = 2048\n",
    "n_heads = 8\n",
    "num_layers = 6\n",
    "vocab_size = tokenizer.vocab_size\n",
    "max_seq_input_length = 450\n",
    "max_seq_output_length = 450\n",
    "transformer = Transformer(vocab_size,weight_dim, ff_hidden_dim, n_heads, num_layers,max_seq_input_length,max_seq_output_length)"
   ]
  },
  {
   "cell_type": "code",
   "execution_count": 70,
   "id": "7b85cb02-615d-4e81-877d-0c1c3ceb520d",
   "metadata": {},
   "outputs": [
    {
     "data": {
      "text/plain": [
       "Transformer(\n",
       "  (embedding): Embedding(32000, 512)\n",
       "  (positional_input_encoding): PositionalEncodingWithFeatureTransformation(\n",
       "    (linear): Linear(in_features=32000, out_features=512, bias=True)\n",
       "  )\n",
       "  (positional_output_encoding): PositionalEncodingWithFeatureTransformation(\n",
       "    (linear): Linear(in_features=32000, out_features=512, bias=True)\n",
       "  )\n",
       "  (encoder): Encoder(\n",
       "    (layers): ModuleList(\n",
       "      (0-5): 6 x Subencoder(\n",
       "        (attention): Multiheadattention(\n",
       "          (qkv_matrices): Linear(in_features=512, out_features=1536, bias=True)\n",
       "          (linear_layer): Linear(in_features=512, out_features=512, bias=True)\n",
       "        )\n",
       "        (norm): LayerNormalization()\n",
       "        (dropout1): Dropout(p=0.1, inplace=False)\n",
       "        (ffd): feedfowardlayer(\n",
       "          (linearlayer1): Linear(in_features=512, out_features=2048, bias=True)\n",
       "          (relu): ReLU()\n",
       "          (linearlayer2): Linear(in_features=2048, out_features=512, bias=True)\n",
       "          (drop_neurons): Dropout(p=0.1, inplace=False)\n",
       "        )\n",
       "        (norm2): LayerNormalization()\n",
       "        (dropout2): Dropout(p=0.1, inplace=False)\n",
       "      )\n",
       "    )\n",
       "  )\n",
       "  (decoder): Decoder(\n",
       "    (layers): Sequentialdecoder(\n",
       "      (0): Subdecoder(\n",
       "        (maskedattention): Maskedattention(\n",
       "          (qkv_matrices): Linear(in_features=512, out_features=1536, bias=True)\n",
       "          (linear_layer): Linear(in_features=512, out_features=512, bias=True)\n",
       "        )\n",
       "        (norm): LayerNormalization()\n",
       "        (dropout1): Dropout(p=0.1, inplace=False)\n",
       "        (Multicrossattention): Multiheadcrossattention(\n",
       "          (kv_matrices): Linear(in_features=512, out_features=1024, bias=True)\n",
       "          (q_matrix): Linear(in_features=512, out_features=512, bias=True)\n",
       "          (linear_layer): Linear(in_features=512, out_features=512, bias=True)\n",
       "        )\n",
       "        (norm2): LayerNormalization()\n",
       "        (dropout2): Dropout(p=0.1, inplace=False)\n",
       "        (ffd): feedfowardlayer(\n",
       "          (linearlayer1): Linear(in_features=512, out_features=2048, bias=True)\n",
       "          (relu): ReLU()\n",
       "          (linearlayer2): Linear(in_features=2048, out_features=512, bias=True)\n",
       "          (drop_neurons): Dropout(p=0.1, inplace=False)\n",
       "        )\n",
       "        (norm3): LayerNormalization()\n",
       "        (dropout3): Dropout(p=0.1, inplace=False)\n",
       "      )\n",
       "    )\n",
       "  )\n",
       "  (fc_out): Linear(in_features=512, out_features=32000, bias=True)\n",
       ")"
      ]
     },
     "execution_count": 70,
     "metadata": {},
     "output_type": "execute_result"
    }
   ],
   "source": [
    "transformer.to(device)"
   ]
  },
  {
   "cell_type": "code",
   "execution_count": 71,
   "id": "45d130ff-c77e-4f7f-a5fb-69cb283da3ed",
   "metadata": {},
   "outputs": [
    {
     "name": "stdout",
     "output_type": "stream",
     "text": [
      "tensor(10.4728, grad_fn=<NllLossBackward0>)\n",
      "tensor(7.6795, grad_fn=<NllLossBackward0>)\n",
      "tensor(5.9802, grad_fn=<NllLossBackward0>)\n",
      "tensor(6.6960, grad_fn=<NllLossBackward0>)\n",
      "tensor(4.5027, grad_fn=<NllLossBackward0>)\n",
      "tensor(2.3640, grad_fn=<NllLossBackward0>)\n",
      "tensor(1.2672, grad_fn=<NllLossBackward0>)\n",
      "tensor(0.8248, grad_fn=<NllLossBackward0>)\n",
      "tensor(0.4476, grad_fn=<NllLossBackward0>)\n",
      "tensor(0.3167, grad_fn=<NllLossBackward0>)\n",
      "tensor(0.2390, grad_fn=<NllLossBackward0>)\n",
      "tensor(0.1874, grad_fn=<NllLossBackward0>)\n",
      "tensor(0.1323, grad_fn=<NllLossBackward0>)\n",
      "tensor(0.0837, grad_fn=<NllLossBackward0>)\n",
      "tensor(0.0577, grad_fn=<NllLossBackward0>)\n",
      "tensor(0.0337, grad_fn=<NllLossBackward0>)\n",
      "tensor(0.0261, grad_fn=<NllLossBackward0>)\n",
      "tensor(0.0194, grad_fn=<NllLossBackward0>)\n",
      "tensor(0.0148, grad_fn=<NllLossBackward0>)\n",
      "tensor(0.0121, grad_fn=<NllLossBackward0>)\n",
      "tensor(0.0103, grad_fn=<NllLossBackward0>)\n",
      "tensor(0.0085, grad_fn=<NllLossBackward0>)\n",
      "tensor(0.0074, grad_fn=<NllLossBackward0>)\n",
      "tensor(0.0065, grad_fn=<NllLossBackward0>)\n",
      "tensor(0.0055, grad_fn=<NllLossBackward0>)\n",
      "tensor(0.0043, grad_fn=<NllLossBackward0>)\n",
      "tensor(0.0038, grad_fn=<NllLossBackward0>)\n",
      "tensor(0.0035, grad_fn=<NllLossBackward0>)\n",
      "tensor(0.0032, grad_fn=<NllLossBackward0>)\n",
      "tensor(0.0031, grad_fn=<NllLossBackward0>)\n"
     ]
    }
   ],
   "source": [
    "embedding_matrix_inputs = nn.Linear(512,512)\n",
    "embedding_matrix_outputs = nn.Linear(512,512)\n",
    "positional_embeddings = PositionalEncodingWithFeatureTransformation(input_dim=512,output_dim=512,max_sequence_length=450)\n",
    "optimizer = torch.optim.Adam(list(transformer.parameters()) + list(embedding_matrix_inputs.parameters()) + list(embedding_matrix_outputs.parameters()) + list(positional_embeddings.parameters()),lr=0.001)\n",
    "criterion = nn.CrossEntropyLoss(ignore_index=tokenizer.pad_token_id)\n",
    "word2vec = Word2VecEmbedding(32000,512)\n",
    "for i in range(30):\n",
    "    weights_dim = 512\n",
    "    ff_hidden = 2048\n",
    "    n_heads = 8\n",
    "    drop_probability = 0.15\n",
    "    num_layers = 3\n",
    "    batch_size = 1\n",
    "    for i in range(len(train_dataset)):\n",
    "        start_idx = i * batch_size\n",
    "        end_idx = start_idx + batch_size\n",
    "        current_batch_inputs = tensor_tokenized_inputs[start_idx:end_idx]  \n",
    "        current_batch_outputs = tensor_tokenized_outputs[start_idx:end_idx]\n",
    "    with torch.no_grad(): \n",
    "        X = word2vec(current_batch_inputs) \n",
    "    with torch.no_grad():\n",
    "        Y = word2vec(current_batch_outputs)\n",
    "    embedded_X = embedding_matrix_inputs(X)\n",
    "    embedded_Y = embedding_matrix_outputs(Y)\n",
    "    positional_embeddingsx = positional_embeddings(X) \n",
    "    final_X = embedded_X + positional_embeddingsx\n",
    "    positional_embeddingsy = positional_embeddings(Y) \n",
    "    final_Y = embedded_Y + positional_embeddingsy\n",
    "    src_mask = create_padding_mask(current_batch_inputs,1,450,8)\n",
    "    tgt_mask = create_padding_mask(current_batch_outputs,1,450,8)\n",
    "    lkahd_mask = create_lookahead_mask(450,8)\n",
    "    crossattention_mask = create_padding_mask_2(current_batch_outputs,450,8)\n",
    "    logits = transformer(final_X,final_Y,src_mask,tgt_mask,lkahd_mask,crossattention_mask)\n",
    "    probabilities = func.softmax(logits,dim=-1)\n",
    "    predicted_tokens = torch.argmax(probabilities,dim=-1)\n",
    "    predicted_text = tokenizer.decode(predicted_tokens[0].tolist())\n",
    "    loss = criterion(logits.view(-1, logits.size(-1)), current_batch_outputs.view(-1))\n",
    "    print(loss)\n",
    "    optimizer.zero_grad()\n",
    "    loss.backward()\n",
    "    optimizer.step()"
   ]
  },
  {
   "cell_type": "code",
   "execution_count": 72,
   "id": "1ad6967d-909a-4abb-9fd5-bb750aab5590",
   "metadata": {},
   "outputs": [
    {
     "data": {
      "text/plain": [
       "\"Person1 invites Anna to come to a get together Anna agrees after she knows Jack won't come because they are on bad terms</s> together wo Anna knows terms come</s>after knows come  knows Annat Annat wo Anna on Anna Annas together  knows get1 get1 they they1 Jack to Person they to to to to to Person Person Person they Person get together get to to Person get to to on they  to get1 Person Person Person they Jack Person they Person Person together to to to Person Person to get they get aftert Jackt Jackt'tt Jack' knows Jackt Jack Jack Jackt Jack' Jackt'' they Jacktt to' knowstt knows' Jacktt't Jackt Jackt''ttt to Jack' Jack Jack'' to to to to to to to to to to to to to to to to to to to to to to to to to to to to to to to to to to to to to to to to to to to to to to to to to to to to to to to to to come come come come knows come come  come come come come come come come come come come come comet come come come come come come come come come come come come come come come come come come come come come come come come come come come come come come come come come come come Person Person getn get Person Person get Person1 Person Person Person get get get Person Anna get Person come Person Person Person Person get Person Person Person Person Person Person Person Person Person Person Person get Person Person get Person Person come Person Person Person Person Person come Person Person come Person get come come come come come come come come come come come come come come come come come come come come come come come come come come come come come come come come come come come come come come come come come come come come come come come come come come come come come come come come come Person Jack Jack get get Person get Jack get get get get get get Jack Person Person Jack Person get get Person' get Person Jack Person Person get Person get Person Jack' get Jack Jack' Person'' Person Jack Person get get get Jack Person get get get Person Person get get get\""
      ]
     },
     "execution_count": 72,
     "metadata": {},
     "output_type": "execute_result"
    }
   ],
   "source": [
    "predicted_text"
   ]
  },
  {
   "cell_type": "code",
   "execution_count": 73,
   "id": "08e9ce5c-8401-4406-bab3-2f36a73bbf3b",
   "metadata": {},
   "outputs": [
    {
     "name": "stdout",
     "output_type": "stream",
     "text": [
      "Person1 invites Anna to come to a get together Anna agrees after she knows Jack won't come because they are on bad terms\n"
     ]
    }
   ],
   "source": [
    "end_pos = predicted_text.find(\"</s>\")\n",
    "if end_pos != -1:\n",
    "    truncated_text = predicted_text[:end_pos]\n",
    "else:\n",
    "    truncated_text = predicted_text \n",
    "cleaned_text = \" \".join(truncated_text.split())\n",
    "print(cleaned_text)"
   ]
  },
  {
   "cell_type": "code",
   "execution_count": 74,
   "id": "ebc86979-14d7-4c44-a107-a6f92dace49b",
   "metadata": {},
   "outputs": [
    {
     "name": "stdout",
     "output_type": "stream",
     "text": [
      "Requirement already satisfied: gtts in ./anaconda3/lib/python3.10/site-packages (2.5.4)\n",
      "Requirement already satisfied: requests<3,>=2.27 in ./anaconda3/lib/python3.10/site-packages (from gtts) (2.32.3)\n",
      "Requirement already satisfied: click<8.2,>=7.1 in ./anaconda3/lib/python3.10/site-packages (from gtts) (8.1.7)\n",
      "Requirement already satisfied: charset-normalizer<4,>=2 in ./anaconda3/lib/python3.10/site-packages (from requests<3,>=2.27->gtts) (3.3.2)\n",
      "Requirement already satisfied: idna<4,>=2.5 in ./anaconda3/lib/python3.10/site-packages (from requests<3,>=2.27->gtts) (3.7)\n",
      "Requirement already satisfied: urllib3<3,>=1.21.1 in ./anaconda3/lib/python3.10/site-packages (from requests<3,>=2.27->gtts) (2.2.3)\n",
      "Requirement already satisfied: certifi>=2017.4.17 in ./anaconda3/lib/python3.10/site-packages (from requests<3,>=2.27->gtts) (2024.8.30)\n"
     ]
    }
   ],
   "source": [
    "!pip install gtts"
   ]
  },
  {
   "cell_type": "code",
   "execution_count": 75,
   "id": "5babc466-0c31-4a61-a64f-6780c956908d",
   "metadata": {},
   "outputs": [],
   "source": [
    "from gtts import gTTS"
   ]
  },
  {
   "cell_type": "code",
   "execution_count": 76,
   "id": "30fbafb8-943f-4105-8830-5ca4c76f1e22",
   "metadata": {},
   "outputs": [],
   "source": [
    "import os"
   ]
  },
  {
   "cell_type": "code",
   "execution_count": 77,
   "id": "1e2ac238-c5e1-4872-b71d-a02ad389f0b8",
   "metadata": {},
   "outputs": [
    {
     "name": "stdout",
     "output_type": "stream",
     "text": [
      "Requirement already satisfied: pygame in ./anaconda3/lib/python3.10/site-packages (2.6.1)\n"
     ]
    }
   ],
   "source": [
    "!pip install pygame"
   ]
  },
  {
   "cell_type": "code",
   "execution_count": 78,
   "id": "3cf389e4-9c11-40ca-a250-0271db984bb3",
   "metadata": {},
   "outputs": [
    {
     "name": "stdout",
     "output_type": "stream",
     "text": [
      "Requirement already satisfied: pydub in ./anaconda3/lib/python3.10/site-packages (0.25.1)\n"
     ]
    }
   ],
   "source": [
    "!pip install pydub"
   ]
  },
  {
   "cell_type": "code",
   "execution_count": null,
   "id": "b45837a5-14e4-477e-aba9-4ad0db4a7063",
   "metadata": {},
   "outputs": [],
   "source": [
    "userinput_text = input(\"Enter paragraph: \")"
   ]
  },
  {
   "cell_type": "code",
   "execution_count": null,
   "id": "8e7cf352-519c-4825-afa5-94baef841627",
   "metadata": {},
   "outputs": [],
   "source": [
    "newtext = preprocess_text(userinput_text)"
   ]
  },
  {
   "cell_type": "code",
   "execution_count": null,
   "id": "d56682c6-5925-420a-aff0-bc198ff9b5cb",
   "metadata": {},
   "outputs": [],
   "source": [
    "newtext_tokens = tokenizer(newtext,max_length=max_input_seq_length,padding='max_length',return_tensors='pt',add_special_tokens=False)"
   ]
  },
  {
   "cell_type": "code",
   "execution_count": null,
   "id": "424f3a71-ebf5-468a-af7b-45416936bfca",
   "metadata": {},
   "outputs": [],
   "source": [
    "tensor_tokenized_newtext = torch.cat(newtext_tokens,dim=0)\n",
    "X = word2vec(tensor_tokenized_newtext,32000) \n",
    "embedded_X = embedding_matrix_inputs(X)\n",
    "positional_embeddingsx = positional_embeddings(X) \n",
    "final_X = embedded_X + positional_embeddingsx"
   ]
  },
  {
   "cell_type": "code",
   "execution_count": 81,
   "id": "c6e991ab-418d-4924-8da9-289fe12ac798",
   "metadata": {},
   "outputs": [
    {
     "data": {
      "text/html": [
       "\n",
       "                <audio  controls=\"controls\" >\n",
       "                    <source src=\"data:audio/mpeg;base64,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\" type=\"audio/mpeg\" />\n",
       "                    Your browser does not support the audio element.\n",
       "                </audio>\n",
       "              "
      ],
      "text/plain": [
       "<IPython.lib.display.Audio object>"
      ]
     },
     "execution_count": 81,
     "metadata": {},
     "output_type": "execute_result"
    }
   ],
   "source": [
    "from pydub import AudioSegment\n",
    "from pydub.playback import play\n",
    "myobj = gTTS(text=cleaned_text, lang='en', slow=False)\n",
    "myobj.save(\"welcome.mp3\")\n",
    "from IPython.display import Audio\n",
    "Audio(\"welcome.mp3\")"
   ]
  },
  {
   "cell_type": "code",
   "execution_count": null,
   "id": "cc03602f-5f7e-44aa-bcf5-a8af21b8c287",
   "metadata": {},
   "outputs": [],
   "source": []
  }
 ],
 "metadata": {
  "kernelspec": {
   "display_name": "Python 3 (ipykernel)",
   "language": "python",
   "name": "python3"
  },
  "language_info": {
   "codemirror_mode": {
    "name": "ipython",
    "version": 3
   },
   "file_extension": ".py",
   "mimetype": "text/x-python",
   "name": "python",
   "nbconvert_exporter": "python",
   "pygments_lexer": "ipython3",
   "version": "3.10.15"
  }
 },
 "nbformat": 4,
 "nbformat_minor": 5
}
