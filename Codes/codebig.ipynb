{
 "cells": [
  {
   "cell_type": "code",
   "execution_count": 5,
   "id": "1204fe5d-9e3d-48b1-8248-84ea59bc090f",
   "metadata": {},
   "outputs": [],
   "source": [
    "import numpy as np"
   ]
  },
  {
   "cell_type": "code",
   "execution_count": 3,
   "id": "fe373e2f-f21a-48bd-b139-59aef9a3b04f",
   "metadata": {},
   "outputs": [
    {
     "name": "stdout",
     "output_type": "stream",
     "text": [
      "Requirement already satisfied: torch in /dgxa_home/se22uari173/anaconda3/lib/python3.10/site-packages (2.5.1)\n",
      "Requirement already satisfied: filelock in /dgxa_home/se22uari173/anaconda3/lib/python3.10/site-packages (from torch) (3.13.1)\n",
      "Requirement already satisfied: typing-extensions>=4.8.0 in /dgxa_home/se22uari173/anaconda3/lib/python3.10/site-packages (from torch) (4.11.0)\n",
      "Requirement already satisfied: networkx in /dgxa_home/se22uari173/anaconda3/lib/python3.10/site-packages (from torch) (3.3)\n",
      "Requirement already satisfied: jinja2 in /dgxa_home/se22uari173/anaconda3/lib/python3.10/site-packages (from torch) (3.1.4)\n",
      "Requirement already satisfied: fsspec in /dgxa_home/se22uari173/anaconda3/lib/python3.10/site-packages (from torch) (2024.6.1)\n",
      "Requirement already satisfied: nvidia-cuda-nvrtc-cu12==12.4.127 in /dgxa_home/se22uari173/anaconda3/lib/python3.10/site-packages (from torch) (12.4.127)\n",
      "Requirement already satisfied: nvidia-cuda-runtime-cu12==12.4.127 in /dgxa_home/se22uari173/anaconda3/lib/python3.10/site-packages (from torch) (12.4.127)\n",
      "Requirement already satisfied: nvidia-cuda-cupti-cu12==12.4.127 in /dgxa_home/se22uari173/anaconda3/lib/python3.10/site-packages (from torch) (12.4.127)\n",
      "Requirement already satisfied: nvidia-cudnn-cu12==9.1.0.70 in /dgxa_home/se22uari173/anaconda3/lib/python3.10/site-packages (from torch) (9.1.0.70)\n",
      "Requirement already satisfied: nvidia-cublas-cu12==12.4.5.8 in /dgxa_home/se22uari173/anaconda3/lib/python3.10/site-packages (from torch) (12.4.5.8)\n",
      "Requirement already satisfied: nvidia-cufft-cu12==11.2.1.3 in /dgxa_home/se22uari173/anaconda3/lib/python3.10/site-packages (from torch) (11.2.1.3)\n",
      "Requirement already satisfied: nvidia-curand-cu12==10.3.5.147 in /dgxa_home/se22uari173/anaconda3/lib/python3.10/site-packages (from torch) (10.3.5.147)\n",
      "Requirement already satisfied: nvidia-cusolver-cu12==11.6.1.9 in /dgxa_home/se22uari173/anaconda3/lib/python3.10/site-packages (from torch) (11.6.1.9)\n",
      "Requirement already satisfied: nvidia-cusparse-cu12==12.3.1.170 in /dgxa_home/se22uari173/anaconda3/lib/python3.10/site-packages (from torch) (12.3.1.170)\n",
      "Requirement already satisfied: nvidia-nccl-cu12==2.21.5 in /dgxa_home/se22uari173/anaconda3/lib/python3.10/site-packages (from torch) (2.21.5)\n",
      "Requirement already satisfied: nvidia-nvtx-cu12==12.4.127 in /dgxa_home/se22uari173/anaconda3/lib/python3.10/site-packages (from torch) (12.4.127)\n",
      "Requirement already satisfied: nvidia-nvjitlink-cu12==12.4.127 in /dgxa_home/se22uari173/anaconda3/lib/python3.10/site-packages (from torch) (12.4.127)\n",
      "Requirement already satisfied: triton==3.1.0 in /dgxa_home/se22uari173/anaconda3/lib/python3.10/site-packages (from torch) (3.1.0)\n",
      "Requirement already satisfied: sympy==1.13.1 in /dgxa_home/se22uari173/anaconda3/lib/python3.10/site-packages (from torch) (1.13.1)\n",
      "Requirement already satisfied: mpmath<1.4,>=1.1.0 in /dgxa_home/se22uari173/anaconda3/lib/python3.10/site-packages (from sympy==1.13.1->torch) (1.3.0)\n",
      "Requirement already satisfied: MarkupSafe>=2.0 in /dgxa_home/se22uari173/anaconda3/lib/python3.10/site-packages (from jinja2->torch) (2.1.3)\n"
     ]
    }
   ],
   "source": [
    "!pip install torch"
   ]
  },
  {
   "cell_type": "code",
   "execution_count": 6,
   "id": "a1a61ba1-ac10-4b3e-94eb-51e93e41e750",
   "metadata": {},
   "outputs": [],
   "source": [
    "import pandas as pd"
   ]
  },
  {
   "cell_type": "code",
   "execution_count": 7,
   "id": "7d4424e2-7a53-4b9c-8639-eb63640dbb24",
   "metadata": {},
   "outputs": [],
   "source": [
    "path = '/dgxa_home/se22uari173/big/train.csv'"
   ]
  },
  {
   "cell_type": "code",
   "execution_count": 8,
   "id": "27267287-25aa-456d-b954-ac21358d36d6",
   "metadata": {},
   "outputs": [],
   "source": [
    "df = pd.read_csv(path)"
   ]
  },
  {
   "cell_type": "code",
   "execution_count": 9,
   "id": "4fa79084-4dff-4037-9397-07a9d9fc7939",
   "metadata": {},
   "outputs": [
    {
     "data": {
      "text/html": [
       "<div>\n",
       "<style scoped>\n",
       "    .dataframe tbody tr th:only-of-type {\n",
       "        vertical-align: middle;\n",
       "    }\n",
       "\n",
       "    .dataframe tbody tr th {\n",
       "        vertical-align: top;\n",
       "    }\n",
       "\n",
       "    .dataframe thead th {\n",
       "        text-align: right;\n",
       "    }\n",
       "</style>\n",
       "<table border=\"1\" class=\"dataframe\">\n",
       "  <thead>\n",
       "    <tr style=\"text-align: right;\">\n",
       "      <th></th>\n",
       "      <th>id</th>\n",
       "      <th>article</th>\n",
       "      <th>highlights</th>\n",
       "    </tr>\n",
       "  </thead>\n",
       "  <tbody>\n",
       "    <tr>\n",
       "      <th>0</th>\n",
       "      <td>0001d1afc246a7964130f43ae940af6bc6c57f01</td>\n",
       "      <td>By . Associated Press . PUBLISHED: . 14:11 EST...</td>\n",
       "      <td>Bishop John Folda, of North Dakota, is taking ...</td>\n",
       "    </tr>\n",
       "    <tr>\n",
       "      <th>1</th>\n",
       "      <td>0002095e55fcbd3a2f366d9bf92a95433dc305ef</td>\n",
       "      <td>(CNN) -- Ralph Mata was an internal affairs li...</td>\n",
       "      <td>Criminal complaint: Cop used his role to help ...</td>\n",
       "    </tr>\n",
       "    <tr>\n",
       "      <th>2</th>\n",
       "      <td>00027e965c8264c35cc1bc55556db388da82b07f</td>\n",
       "      <td>A drunk driver who killed a young woman in a h...</td>\n",
       "      <td>Craig Eccleston-Todd, 27, had drunk at least t...</td>\n",
       "    </tr>\n",
       "    <tr>\n",
       "      <th>3</th>\n",
       "      <td>0002c17436637c4fe1837c935c04de47adb18e9a</td>\n",
       "      <td>(CNN) -- With a breezy sweep of his pen Presid...</td>\n",
       "      <td>Nina dos Santos says Europe must be ready to a...</td>\n",
       "    </tr>\n",
       "    <tr>\n",
       "      <th>4</th>\n",
       "      <td>0003ad6ef0c37534f80b55b4235108024b407f0b</td>\n",
       "      <td>Fleetwood are the only team still to have a 10...</td>\n",
       "      <td>Fleetwood top of League One after 2-0 win at S...</td>\n",
       "    </tr>\n",
       "    <tr>\n",
       "      <th>...</th>\n",
       "      <td>...</td>\n",
       "      <td>...</td>\n",
       "      <td>...</td>\n",
       "    </tr>\n",
       "    <tr>\n",
       "      <th>287108</th>\n",
       "      <td>fffdfb56fdf1a12d364562cc2b9b1d4de7481dee</td>\n",
       "      <td>By . James Rush . Former first daughter Chelse...</td>\n",
       "      <td>Chelsea Clinton said question of running for o...</td>\n",
       "    </tr>\n",
       "    <tr>\n",
       "      <th>287109</th>\n",
       "      <td>fffeecb8690b85de8c3faed80adbc7a978f9ae2a</td>\n",
       "      <td>An apologetic Vanilla Ice has given his first ...</td>\n",
       "      <td>Vanilla Ice, 47 - real name Robert Van Winkle ...</td>\n",
       "    </tr>\n",
       "    <tr>\n",
       "      <th>287110</th>\n",
       "      <td>ffff5231e4c71544bc6c97015cdb16c60e42b3f4</td>\n",
       "      <td>America's most lethal sniper claimed he wished...</td>\n",
       "      <td>America's most lethal sniper made comment in i...</td>\n",
       "    </tr>\n",
       "    <tr>\n",
       "      <th>287111</th>\n",
       "      <td>ffff924b14a8d82058b6c1c5368ff1113c1632af</td>\n",
       "      <td>By . Sara Malm . PUBLISHED: . 12:19 EST, 8 Mar...</td>\n",
       "      <td>A swarm of more than one million has crossed b...</td>\n",
       "    </tr>\n",
       "    <tr>\n",
       "      <th>287112</th>\n",
       "      <td>ffffd563a96104f5cf4493cfa701a65f31b06abf</td>\n",
       "      <td>(CNN)Former Florida Gov. Jeb Bush has decided ...</td>\n",
       "      <td>Other 2016 hopefuls maintain that Bush's annou...</td>\n",
       "    </tr>\n",
       "  </tbody>\n",
       "</table>\n",
       "<p>287113 rows × 3 columns</p>\n",
       "</div>"
      ],
      "text/plain": [
       "                                              id  \\\n",
       "0       0001d1afc246a7964130f43ae940af6bc6c57f01   \n",
       "1       0002095e55fcbd3a2f366d9bf92a95433dc305ef   \n",
       "2       00027e965c8264c35cc1bc55556db388da82b07f   \n",
       "3       0002c17436637c4fe1837c935c04de47adb18e9a   \n",
       "4       0003ad6ef0c37534f80b55b4235108024b407f0b   \n",
       "...                                          ...   \n",
       "287108  fffdfb56fdf1a12d364562cc2b9b1d4de7481dee   \n",
       "287109  fffeecb8690b85de8c3faed80adbc7a978f9ae2a   \n",
       "287110  ffff5231e4c71544bc6c97015cdb16c60e42b3f4   \n",
       "287111  ffff924b14a8d82058b6c1c5368ff1113c1632af   \n",
       "287112  ffffd563a96104f5cf4493cfa701a65f31b06abf   \n",
       "\n",
       "                                                  article  \\\n",
       "0       By . Associated Press . PUBLISHED: . 14:11 EST...   \n",
       "1       (CNN) -- Ralph Mata was an internal affairs li...   \n",
       "2       A drunk driver who killed a young woman in a h...   \n",
       "3       (CNN) -- With a breezy sweep of his pen Presid...   \n",
       "4       Fleetwood are the only team still to have a 10...   \n",
       "...                                                   ...   \n",
       "287108  By . James Rush . Former first daughter Chelse...   \n",
       "287109  An apologetic Vanilla Ice has given his first ...   \n",
       "287110  America's most lethal sniper claimed he wished...   \n",
       "287111  By . Sara Malm . PUBLISHED: . 12:19 EST, 8 Mar...   \n",
       "287112  (CNN)Former Florida Gov. Jeb Bush has decided ...   \n",
       "\n",
       "                                               highlights  \n",
       "0       Bishop John Folda, of North Dakota, is taking ...  \n",
       "1       Criminal complaint: Cop used his role to help ...  \n",
       "2       Craig Eccleston-Todd, 27, had drunk at least t...  \n",
       "3       Nina dos Santos says Europe must be ready to a...  \n",
       "4       Fleetwood top of League One after 2-0 win at S...  \n",
       "...                                                   ...  \n",
       "287108  Chelsea Clinton said question of running for o...  \n",
       "287109  Vanilla Ice, 47 - real name Robert Van Winkle ...  \n",
       "287110  America's most lethal sniper made comment in i...  \n",
       "287111  A swarm of more than one million has crossed b...  \n",
       "287112  Other 2016 hopefuls maintain that Bush's annou...  \n",
       "\n",
       "[287113 rows x 3 columns]"
      ]
     },
     "execution_count": 9,
     "metadata": {},
     "output_type": "execute_result"
    }
   ],
   "source": [
    "df"
   ]
  },
  {
   "cell_type": "code",
   "execution_count": 10,
   "id": "19f67828-c31e-41cb-b2cc-69372fb24a2a",
   "metadata": {},
   "outputs": [
    {
     "name": "stdout",
     "output_type": "stream",
     "text": [
      "Requirement already satisfied: spacy in /dgxa_home/se22uari173/anaconda3/lib/python3.10/site-packages (3.8.2)\n",
      "Requirement already satisfied: spacy-legacy<3.1.0,>=3.0.11 in /dgxa_home/se22uari173/anaconda3/lib/python3.10/site-packages (from spacy) (3.0.12)\n",
      "Requirement already satisfied: spacy-loggers<2.0.0,>=1.0.0 in /dgxa_home/se22uari173/anaconda3/lib/python3.10/site-packages (from spacy) (1.0.5)\n",
      "Requirement already satisfied: murmurhash<1.1.0,>=0.28.0 in /dgxa_home/se22uari173/anaconda3/lib/python3.10/site-packages (from spacy) (1.0.11)\n",
      "Requirement already satisfied: cymem<2.1.0,>=2.0.2 in /dgxa_home/se22uari173/anaconda3/lib/python3.10/site-packages (from spacy) (2.0.10)\n",
      "Requirement already satisfied: preshed<3.1.0,>=3.0.2 in /dgxa_home/se22uari173/anaconda3/lib/python3.10/site-packages (from spacy) (3.0.9)\n",
      "Requirement already satisfied: thinc<8.4.0,>=8.3.0 in /dgxa_home/se22uari173/anaconda3/lib/python3.10/site-packages (from spacy) (8.3.2)\n",
      "Requirement already satisfied: wasabi<1.2.0,>=0.9.1 in /dgxa_home/se22uari173/anaconda3/lib/python3.10/site-packages (from spacy) (1.1.3)\n",
      "Requirement already satisfied: srsly<3.0.0,>=2.4.3 in /dgxa_home/se22uari173/anaconda3/lib/python3.10/site-packages (from spacy) (2.4.8)\n",
      "Requirement already satisfied: catalogue<2.1.0,>=2.0.6 in /dgxa_home/se22uari173/anaconda3/lib/python3.10/site-packages (from spacy) (2.0.10)\n",
      "Requirement already satisfied: weasel<0.5.0,>=0.1.0 in /dgxa_home/se22uari173/anaconda3/lib/python3.10/site-packages (from spacy) (0.4.1)\n",
      "Requirement already satisfied: typer<1.0.0,>=0.3.0 in /dgxa_home/se22uari173/anaconda3/lib/python3.10/site-packages (from spacy) (0.9.0)\n",
      "Requirement already satisfied: tqdm<5.0.0,>=4.38.0 in /dgxa_home/se22uari173/anaconda3/lib/python3.10/site-packages (from spacy) (4.66.5)\n",
      "Requirement already satisfied: requests<3.0.0,>=2.13.0 in /dgxa_home/se22uari173/anaconda3/lib/python3.10/site-packages (from spacy) (2.32.3)\n",
      "Requirement already satisfied: pydantic!=1.8,!=1.8.1,<3.0.0,>=1.7.4 in /dgxa_home/se22uari173/anaconda3/lib/python3.10/site-packages (from spacy) (2.8.2)\n",
      "Requirement already satisfied: jinja2 in /dgxa_home/se22uari173/anaconda3/lib/python3.10/site-packages (from spacy) (3.1.4)\n",
      "Requirement already satisfied: setuptools in /dgxa_home/se22uari173/anaconda3/lib/python3.10/site-packages (from spacy) (75.1.0)\n",
      "Requirement already satisfied: packaging>=20.0 in /dgxa_home/se22uari173/anaconda3/lib/python3.10/site-packages (from spacy) (24.1)\n",
      "Requirement already satisfied: langcodes<4.0.0,>=3.2.0 in /dgxa_home/se22uari173/anaconda3/lib/python3.10/site-packages (from spacy) (3.5.0)\n",
      "Requirement already satisfied: numpy>=1.19.0 in /dgxa_home/se22uari173/anaconda3/lib/python3.10/site-packages (from spacy) (2.0.2)\n",
      "Requirement already satisfied: language-data>=1.2 in /dgxa_home/se22uari173/anaconda3/lib/python3.10/site-packages (from langcodes<4.0.0,>=3.2.0->spacy) (1.3.0)\n",
      "Requirement already satisfied: annotated-types>=0.4.0 in /dgxa_home/se22uari173/anaconda3/lib/python3.10/site-packages (from pydantic!=1.8,!=1.8.1,<3.0.0,>=1.7.4->spacy) (0.6.0)\n",
      "Requirement already satisfied: pydantic-core==2.20.1 in /dgxa_home/se22uari173/anaconda3/lib/python3.10/site-packages (from pydantic!=1.8,!=1.8.1,<3.0.0,>=1.7.4->spacy) (2.20.1)\n",
      "Requirement already satisfied: typing-extensions>=4.6.1 in /dgxa_home/se22uari173/anaconda3/lib/python3.10/site-packages (from pydantic!=1.8,!=1.8.1,<3.0.0,>=1.7.4->spacy) (4.11.0)\n",
      "Requirement already satisfied: charset-normalizer<4,>=2 in /dgxa_home/se22uari173/anaconda3/lib/python3.10/site-packages (from requests<3.0.0,>=2.13.0->spacy) (3.3.2)\n",
      "Requirement already satisfied: idna<4,>=2.5 in /dgxa_home/se22uari173/anaconda3/lib/python3.10/site-packages (from requests<3.0.0,>=2.13.0->spacy) (3.7)\n",
      "Requirement already satisfied: urllib3<3,>=1.21.1 in /dgxa_home/se22uari173/anaconda3/lib/python3.10/site-packages (from requests<3.0.0,>=2.13.0->spacy) (2.2.3)\n",
      "Requirement already satisfied: certifi>=2017.4.17 in /dgxa_home/se22uari173/anaconda3/lib/python3.10/site-packages (from requests<3.0.0,>=2.13.0->spacy) (2024.8.30)\n",
      "Requirement already satisfied: blis<1.1.0,>=1.0.0 in /dgxa_home/se22uari173/anaconda3/lib/python3.10/site-packages (from thinc<8.4.0,>=8.3.0->spacy) (1.0.1)\n",
      "Requirement already satisfied: confection<1.0.0,>=0.0.1 in /dgxa_home/se22uari173/anaconda3/lib/python3.10/site-packages (from thinc<8.4.0,>=8.3.0->spacy) (0.1.5)\n",
      "Requirement already satisfied: click<9.0.0,>=7.1.1 in /dgxa_home/se22uari173/anaconda3/lib/python3.10/site-packages (from typer<1.0.0,>=0.3.0->spacy) (8.1.7)\n",
      "Requirement already satisfied: cloudpathlib<1.0.0,>=0.7.0 in /dgxa_home/se22uari173/anaconda3/lib/python3.10/site-packages (from weasel<0.5.0,>=0.1.0->spacy) (0.20.0)\n",
      "Requirement already satisfied: smart-open<8.0.0,>=5.2.1 in /dgxa_home/se22uari173/anaconda3/lib/python3.10/site-packages (from weasel<0.5.0,>=0.1.0->spacy) (5.2.1)\n",
      "Requirement already satisfied: MarkupSafe>=2.0 in /dgxa_home/se22uari173/anaconda3/lib/python3.10/site-packages (from jinja2->spacy) (2.1.3)\n",
      "Requirement already satisfied: marisa-trie>=1.1.0 in /dgxa_home/se22uari173/anaconda3/lib/python3.10/site-packages (from language-data>=1.2->langcodes<4.0.0,>=3.2.0->spacy) (1.2.1)\n"
     ]
    }
   ],
   "source": [
    "!pip install spacy"
   ]
  },
  {
   "cell_type": "code",
   "execution_count": 11,
   "id": "6d547e86-0a4d-42e3-a078-ae340a4876d2",
   "metadata": {},
   "outputs": [
    {
     "name": "stderr",
     "output_type": "stream",
     "text": [
      "/dgxa_home/se22uari173/anaconda3/lib/python3.10/site-packages/torch/cuda/__init__.py:129: UserWarning: CUDA initialization: The NVIDIA driver on your system is too old (found version 11040). Please update your GPU driver by downloading and installing a new version from the URL: http://www.nvidia.com/Download/index.aspx Alternatively, go to: https://pytorch.org to install a PyTorch version that has been compiled with your version of the CUDA driver. (Triggered internally at ../c10/cuda/CUDAFunctions.cpp:108.)\n",
      "  return torch._C._cuda_getDeviceCount() > 0\n"
     ]
    }
   ],
   "source": [
    "import spacy"
   ]
  },
  {
   "cell_type": "code",
   "execution_count": 12,
   "id": "e59f7dda-04a9-4e99-ad6b-7e249be36bc0",
   "metadata": {},
   "outputs": [
    {
     "name": "stderr",
     "output_type": "stream",
     "text": [
      "/dgxa_home/se22uari173/anaconda3/lib/python3.10/site-packages/transformers/utils/generic.py:441: FutureWarning: `torch.utils._pytree._register_pytree_node` is deprecated. Please use `torch.utils._pytree.register_pytree_node` instead.\n",
      "  _torch_pytree._register_pytree_node(\n",
      "/dgxa_home/se22uari173/anaconda3/lib/python3.10/site-packages/transformers/utils/generic.py:309: FutureWarning: `torch.utils._pytree._register_pytree_node` is deprecated. Please use `torch.utils._pytree.register_pytree_node` instead.\n",
      "  _torch_pytree._register_pytree_node(\n"
     ]
    }
   ],
   "source": [
    "nlp = spacy.load(\"en_core_web_sm\")"
   ]
  },
  {
   "cell_type": "code",
   "execution_count": 114,
   "id": "69851f6a-7cfb-451d-9177-110417a6aaa2",
   "metadata": {},
   "outputs": [],
   "source": [
    "import torch"
   ]
  },
  {
   "cell_type": "code",
   "execution_count": 115,
   "id": "cf34c2e9-9020-48fd-a37f-fdc661e272e4",
   "metadata": {},
   "outputs": [],
   "source": [
    "device = torch.device(\"cuda\" if torch.cuda.is_available() else \"cpu\")"
   ]
  },
  {
   "cell_type": "code",
   "execution_count": 116,
   "id": "aa66bd59-2756-4bbb-8f92-34a2e9038d73",
   "metadata": {},
   "outputs": [],
   "source": [
    "def preprocess_text(text):\n",
    "    doc = nlp(text)\n",
    "    cleaned_tokens = [\n",
    "        token.text for token in doc if not token.is_punct and not token.is_space\n",
    "    ]\n",
    "    return \" \".join(cleaned_tokens)"
   ]
  },
  {
   "cell_type": "code",
   "execution_count": 117,
   "id": "70dabeb5-1157-46ce-a178-1182bafa9c23",
   "metadata": {},
   "outputs": [
    {
     "name": "stdout",
     "output_type": "stream",
     "text": [
      "8560.0\n"
     ]
    }
   ],
   "source": [
    "import numpy as np\n",
    "percent = 97\n",
    "print(np.percentile([len(x) for x in df['article']],percent))"
   ]
  },
  {
   "cell_type": "code",
   "execution_count": 118,
   "id": "46c33074-fe86-43b0-b150-316da9f759f2",
   "metadata": {},
   "outputs": [
    {
     "name": "stdout",
     "output_type": "stream",
     "text": [
      "558.0299999999988\n"
     ]
    }
   ],
   "source": [
    "print(np.percentile([len(x) for x in df['highlights']],percent))"
   ]
  },
  {
   "cell_type": "code",
   "execution_count": 119,
   "id": "2dbd3df5-1826-4e77-a035-8361ee37917c",
   "metadata": {},
   "outputs": [],
   "source": [
    "max_input_seq_length = 8660\n",
    "max_output_seq_length = 563"
   ]
  },
  {
   "cell_type": "code",
   "execution_count": 120,
   "id": "83390e33-6883-498d-a840-112bc79f8ca8",
   "metadata": {},
   "outputs": [],
   "source": [
    "df = df[:12000]"
   ]
  },
  {
   "cell_type": "code",
   "execution_count": 121,
   "id": "0f9a6c9d-dbb0-4980-8732-ba4bc787903d",
   "metadata": {},
   "outputs": [],
   "source": [
    "article_list = list(df['article'])"
   ]
  },
  {
   "cell_type": "code",
   "execution_count": 122,
   "id": "e2986acc-02c4-4257-a84e-f81e3c008046",
   "metadata": {},
   "outputs": [],
   "source": [
    "summary_list = list(df['highlights'])"
   ]
  },
  {
   "cell_type": "code",
   "execution_count": 123,
   "id": "2dd2b307-6375-42da-96a6-f84ccee80d48",
   "metadata": {},
   "outputs": [],
   "source": [
    "for i in range(len(article_list)):\n",
    "    article_list[i] = preprocess_text(article_list[i])\n",
    "for i in range(len(summary_list)):\n",
    "    summary_list[i] = preprocess_text(summary_list[i])"
   ]
  },
  {
   "cell_type": "code",
   "execution_count": 144,
   "id": "5a358fb4-ef4a-4cd2-9232-692b9407a44a",
   "metadata": {},
   "outputs": [],
   "source": [
    "maxi = 0\n",
    "for i in article_list:\n",
    "    if(len(i)>maxi):\n",
    "        maxi = len(i)"
   ]
  },
  {
   "cell_type": "code",
   "execution_count": 145,
   "id": "77e1378f-734e-49fa-8c1f-4dfc436683e5",
   "metadata": {},
   "outputs": [
    {
     "data": {
      "text/plain": [
       "14417"
      ]
     },
     "execution_count": 145,
     "metadata": {},
     "output_type": "execute_result"
    }
   ],
   "source": [
    "maxi"
   ]
  },
  {
   "cell_type": "code",
   "execution_count": 146,
   "id": "56611b1c-66e2-4ea9-b866-22ef9a510dab",
   "metadata": {},
   "outputs": [],
   "source": [
    "def is_validlength(paragraph,max_seq_length):\n",
    "    return(len(paragraph)<max_input_seq_length)\n",
    "valid_textsummaries_idx = []\n",
    "for i in range(len(df['article'])):\n",
    "    article,summary = article_list[i],summary_list[i]\n",
    "    if(is_validlength(article,max_input_seq_length) and is_validlength(summary,max_output_seq_length)):\n",
    "        valid_textsummaries_idx.append(i)"
   ]
  },
  {
   "cell_type": "code",
   "execution_count": 147,
   "id": "3288e47c-df5d-4755-beeb-8432488b5097",
   "metadata": {},
   "outputs": [
    {
     "data": {
      "text/plain": [
       "1221"
      ]
     },
     "execution_count": 147,
     "metadata": {},
     "output_type": "execute_result"
    }
   ],
   "source": [
    "len(valid_textsummaries_idx)"
   ]
  },
  {
   "cell_type": "code",
   "execution_count": 148,
   "id": "235bff57-c3cd-4652-8f91-5e7aeb159ae5",
   "metadata": {},
   "outputs": [],
   "source": [
    "article_list_new = []\n",
    "summary_list_new = []\n",
    "for i in valid_textsummaries_idx:\n",
    "    article_list_new.append(article_list[i])\n",
    "    summary_list_new.append(summary_list[i])"
   ]
  },
  {
   "cell_type": "code",
   "execution_count": 149,
   "id": "020addc2-5dfa-4385-9ea1-f91e1aed7e78",
   "metadata": {},
   "outputs": [],
   "source": [
    "from torch.utils.data import Dataset,DataLoader"
   ]
  },
  {
   "cell_type": "code",
   "execution_count": 150,
   "id": "ee5b3026-5f1d-4658-83d6-fdecb29cce67",
   "metadata": {},
   "outputs": [],
   "source": [
    "class TextDataset(Dataset):\n",
    "    def __init__(self,articles,summaries):\n",
    "        self.articles = articles\n",
    "        self.summaries = summaries\n",
    "    def __len__(self):\n",
    "        return len(self.summaries)\n",
    "    def __getitem__(self,j):\n",
    "        return self.articles[j],self.summaries[j]"
   ]
  },
  {
   "cell_type": "code",
   "execution_count": 151,
   "id": "2f5168be-0f47-4ddc-8112-ec677ddc019f",
   "metadata": {},
   "outputs": [],
   "source": [
    "data = TextDataset(article_list_new,summary_list_new)"
   ]
  },
  {
   "cell_type": "code",
   "execution_count": 152,
   "id": "0443200a-2b99-46b7-b39d-010415e3230b",
   "metadata": {},
   "outputs": [],
   "source": [
    "data = TextDataset(article_list_new, summary_list_new)\n",
    "batch_size = 1\n",
    "train_dataset = DataLoader(data, batch_size=batch_size, shuffle=True)"
   ]
  },
  {
   "cell_type": "code",
   "execution_count": 153,
   "id": "4157b212-ad4e-4f3c-87a2-67e2887a810e",
   "metadata": {},
   "outputs": [
    {
     "name": "stdout",
     "output_type": "stream",
     "text": [
      "('Sandor Horvath 65 was attacked by donkeys in Hungary Bitten and trampled on so much looked like he had been attacked by wolves Postmortem revealed the bites and markings had come from the donkeys Pair responsible for killing him are now waiting to be put down',)\n"
     ]
    }
   ],
   "source": [
    "c = 1\n",
    "for batch in train_dataset:\n",
    "    article,summaries = batch\n",
    "    print(summaries)\n",
    "    if(c==1):\n",
    "        break"
   ]
  },
  {
   "cell_type": "code",
   "execution_count": 154,
   "id": "41763abc-502a-439c-aab2-e57b1586e786",
   "metadata": {},
   "outputs": [
    {
     "name": "stdout",
     "output_type": "stream",
     "text": [
      "Requirement already satisfied: transformers in /dgxa_home/se22uari173/anaconda3/lib/python3.10/site-packages (4.36.2)\n",
      "Requirement already satisfied: filelock in /dgxa_home/se22uari173/anaconda3/lib/python3.10/site-packages (from transformers) (3.13.1)\n",
      "Requirement already satisfied: huggingface-hub<1.0,>=0.19.3 in /dgxa_home/se22uari173/anaconda3/lib/python3.10/site-packages (from transformers) (0.26.5)\n",
      "Requirement already satisfied: numpy>=1.17 in /dgxa_home/se22uari173/anaconda3/lib/python3.10/site-packages (from transformers) (2.0.2)\n",
      "Requirement already satisfied: packaging>=20.0 in /dgxa_home/se22uari173/anaconda3/lib/python3.10/site-packages (from transformers) (24.1)\n",
      "Requirement already satisfied: pyyaml>=5.1 in /dgxa_home/se22uari173/anaconda3/lib/python3.10/site-packages (from transformers) (6.0.2)\n",
      "Requirement already satisfied: regex!=2019.12.17 in /dgxa_home/se22uari173/anaconda3/lib/python3.10/site-packages (from transformers) (2024.9.11)\n",
      "Requirement already satisfied: requests in /dgxa_home/se22uari173/anaconda3/lib/python3.10/site-packages (from transformers) (2.32.3)\n",
      "Requirement already satisfied: tokenizers<0.19,>=0.14 in /dgxa_home/se22uari173/anaconda3/lib/python3.10/site-packages (from transformers) (0.15.2)\n",
      "Requirement already satisfied: safetensors>=0.3.1 in /dgxa_home/se22uari173/anaconda3/lib/python3.10/site-packages (from transformers) (0.4.5)\n",
      "Requirement already satisfied: tqdm>=4.27 in /dgxa_home/se22uari173/anaconda3/lib/python3.10/site-packages (from transformers) (4.66.5)\n",
      "Requirement already satisfied: fsspec>=2023.5.0 in /dgxa_home/se22uari173/anaconda3/lib/python3.10/site-packages (from huggingface-hub<1.0,>=0.19.3->transformers) (2024.6.1)\n",
      "Requirement already satisfied: typing-extensions>=3.7.4.3 in /dgxa_home/se22uari173/anaconda3/lib/python3.10/site-packages (from huggingface-hub<1.0,>=0.19.3->transformers) (4.11.0)\n",
      "Requirement already satisfied: charset-normalizer<4,>=2 in /dgxa_home/se22uari173/anaconda3/lib/python3.10/site-packages (from requests->transformers) (3.3.2)\n",
      "Requirement already satisfied: idna<4,>=2.5 in /dgxa_home/se22uari173/anaconda3/lib/python3.10/site-packages (from requests->transformers) (3.7)\n",
      "Requirement already satisfied: urllib3<3,>=1.21.1 in /dgxa_home/se22uari173/anaconda3/lib/python3.10/site-packages (from requests->transformers) (2.2.3)\n",
      "Requirement already satisfied: certifi>=2017.4.17 in /dgxa_home/se22uari173/anaconda3/lib/python3.10/site-packages (from requests->transformers) (2024.8.30)\n"
     ]
    }
   ],
   "source": [
    "!pip install transformers"
   ]
  },
  {
   "cell_type": "code",
   "execution_count": 155,
   "id": "4cec4828-5225-4f21-97f1-9d0c6c1165da",
   "metadata": {},
   "outputs": [
    {
     "name": "stdout",
     "output_type": "stream",
     "text": [
      "Requirement already satisfied: sentencepiece in /dgxa_home/se22uari173/anaconda3/lib/python3.10/site-packages (0.2.0)\n"
     ]
    }
   ],
   "source": [
    "!pip install sentencepiece"
   ]
  },
  {
   "cell_type": "code",
   "execution_count": 156,
   "id": "dbff3080-540f-434f-81a8-2ef3f29be80d",
   "metadata": {},
   "outputs": [
    {
     "name": "stderr",
     "output_type": "stream",
     "text": [
      "Special tokens have been added in the vocabulary, make sure the associated word embeddings are fine-tuned or trained.\n"
     ]
    }
   ],
   "source": [
    "from transformers import T5Tokenizer\n",
    "tokenizer = T5Tokenizer.from_pretrained(\"t5-base\")"
   ]
  },
  {
   "cell_type": "code",
   "execution_count": 157,
   "id": "f2f58df2-8c05-4ff4-9be0-ae9d805f24ff",
   "metadata": {},
   "outputs": [
    {
     "data": {
      "text/plain": [
       "1221"
      ]
     },
     "execution_count": 157,
     "metadata": {},
     "output_type": "execute_result"
    }
   ],
   "source": [
    "len(train_dataset)"
   ]
  },
  {
   "cell_type": "code",
   "execution_count": 158,
   "id": "b3a105b5-a76a-4a32-9e10-196cf84089bf",
   "metadata": {},
   "outputs": [
    {
     "name": "stdout",
     "output_type": "stream",
     "text": [
      "463\n"
     ]
    }
   ],
   "source": [
    "max = 0\n",
    "for i in article_list_new:\n",
    "    if(max<len(tokenizer(i)['input_ids'])):\n",
    "        max = len(tokenizer(i)['input_ids'])\n",
    "print(max)"
   ]
  },
  {
   "cell_type": "code",
   "execution_count": 159,
   "id": "82662540-f8d3-45a7-97f8-d16969fb86b0",
   "metadata": {},
   "outputs": [
    {
     "name": "stdout",
     "output_type": "stream",
     "text": [
      "128\n"
     ]
    }
   ],
   "source": [
    "max = 0\n",
    "for i in summary_list_new:\n",
    "    if(max<len(tokenizer(i)['input_ids'])):\n",
    "        max = len(tokenizer(i)['input_ids'])\n",
    "print(max)"
   ]
  },
  {
   "cell_type": "code",
   "execution_count": 160,
   "id": "d28dbb20-f51e-4643-8d19-4e26496b45b8",
   "metadata": {},
   "outputs": [
    {
     "data": {
      "text/plain": [
       "2"
      ]
     },
     "execution_count": 160,
     "metadata": {},
     "output_type": "execute_result"
    }
   ],
   "source": [
    "len(batch)"
   ]
  },
  {
   "cell_type": "code",
   "execution_count": 161,
   "id": "536912c2-4b5b-4ed6-8c1d-3d5d64fa03bf",
   "metadata": {},
   "outputs": [],
   "source": [
    "input_ids = []\n",
    "output_ids = []\n",
    "max_input_seq_length = 1800\n",
    "max_output_seq_length = 1800\n",
    "for batch in train_dataset:\n",
    "    if(len(batch)==2):\n",
    "        articles, summaries = batch \n",
    "        tokenized_articles = tokenizer(list(articles),max_length=max_input_seq_length,padding='max_length',return_tensors='pt',add_special_tokens=False)\n",
    "        tokenized_summaries = tokenizer(list(summaries),max_length=max_output_seq_length,padding='max_length',return_tensors='pt',add_special_tokens=True)\n",
    "        input_ids.append(tokenized_articles['input_ids'])\n",
    "        output_ids.append(tokenized_summaries['input_ids'])"
   ]
  },
  {
   "cell_type": "code",
   "execution_count": 162,
   "id": "822fcc5a-a9ce-4dd7-9371-652e0ba88fbc",
   "metadata": {},
   "outputs": [],
   "source": [
    "tensor_tokenized_inputs = torch.cat(input_ids,dim=0)"
   ]
  },
  {
   "cell_type": "code",
   "execution_count": 163,
   "id": "beb27bfb-cef9-4486-a30c-65f0673f50ba",
   "metadata": {},
   "outputs": [],
   "source": [
    "tensor_tokenized_outputs = torch.cat(output_ids,dim=0)"
   ]
  },
  {
   "cell_type": "code",
   "execution_count": 164,
   "id": "5749d7f9-1431-49c3-8941-56f32a4ba58f",
   "metadata": {},
   "outputs": [
    {
     "data": {
      "text/plain": [
       "1221"
      ]
     },
     "execution_count": 164,
     "metadata": {},
     "output_type": "execute_result"
    }
   ],
   "source": [
    "len(input_ids)"
   ]
  },
  {
   "cell_type": "code",
   "execution_count": 165,
   "id": "485208ba-0e66-4f78-b16f-8f45bb2cbd5b",
   "metadata": {},
   "outputs": [],
   "source": [
    "import math\n",
    "from torch import nn\n",
    "import torch.nn.functional as func"
   ]
  },
  {
   "cell_type": "code",
   "execution_count": 166,
   "id": "92619108-25f5-462b-9358-c737ade1cb0b",
   "metadata": {},
   "outputs": [],
   "source": [
    "class Multiheadattention(nn.Module):\n",
    "    def __init__(self,weights_dim,n_heads):\n",
    "        super().__init__()\n",
    "        self.weights_dim = weights_dim\n",
    "        self.n_heads = n_heads\n",
    "        self.head_dimensions = weights_dim//n_heads\n",
    "        self.qkv_matrices = nn.Linear(weights_dim,3*weights_dim)\n",
    "        self.linear_layer = nn.Linear(weights_dim,weights_dim)\n",
    "    def forward(self,x,mask):\n",
    "        batch,maxseqlength,weight_dim = x.size()\n",
    "        qkv = self.qkv_matrices(x)\n",
    "        qkv = qkv.reshape(batch,maxseqlength,self.n_heads,3*self.head_dimensions)\n",
    "        qkv = qkv.permute(0,2,1,3)\n",
    "        q,k,v = qkv.chunk(3,dim=-1)\n",
    "        k_transpose = k.transpose(-1,-2)\n",
    "        product = torch.matmul(q,k_transpose)\n",
    "        product = product/math.sqrt(q.size()[-1])\n",
    "        if mask is not None:\n",
    "            product = product+mask\n",
    "        attention_scores = func.softmax(product,dim=-1)\n",
    "        attentionintoV = torch.matmul(attention_scores,v)\n",
    "        n = (self.n_heads*self.head_dimensions)\n",
    "        output = self.linear_layer(attentionintoV.reshape(batch,maxseqlength,n))\n",
    "        return output"
   ]
  },
  {
   "cell_type": "code",
   "execution_count": 167,
   "id": "f9270224-8b1f-41e0-8335-6e021f39184e",
   "metadata": {},
   "outputs": [],
   "source": [
    "class LayerNormalization(torch.nn.Module):\n",
    "    def __init__(self,eps):\n",
    "        super(LayerNormalization, self).__init__()\n",
    "        self.eps = eps \n",
    "    def forward(self,inp):\n",
    "        mean = inp.mean(dim=-1, keepdim=True) \n",
    "        var = ((inp - mean) ** 2).mean(dim=-1, keepdim=True)\n",
    "        std = torch.sqrt(var + self.eps)\n",
    "        y = (inp - mean) / std\n",
    "        return y"
   ]
  },
  {
   "cell_type": "code",
   "execution_count": 168,
   "id": "9761693e-3eb9-47ec-9f2d-f470d4c918d0",
   "metadata": {},
   "outputs": [],
   "source": [
    "class feedfowardlayer(nn.Module):\n",
    "    def __init__(self,weights_dims,hidden_dim,drop_prob):\n",
    "        super(feedfowardlayer, self).__init__()\n",
    "        self.weights_dims = weights_dims\n",
    "        self.hidden_dims = hidden_dim\n",
    "        self.linearlayer1 = nn.Linear(self.weights_dims,self.hidden_dims)\n",
    "        self.relu = nn.ReLU()\n",
    "        self.linearlayer2 = nn.Linear(self.hidden_dims,self.weights_dims)\n",
    "        self.drop_probability = drop_prob\n",
    "        self.drop_neurons = nn.Dropout(p=self.drop_probability)\n",
    "    def forward(self,x):\n",
    "        out = self.linearlayer1(x)\n",
    "        out = self.relu(out)\n",
    "        out = self.drop_neurons(out)\n",
    "        out = self.linearlayer2(out)\n",
    "        return out"
   ]
  },
  {
   "cell_type": "code",
   "execution_count": 169,
   "id": "9f5254d8-4f90-4207-8506-604cb0457727",
   "metadata": {},
   "outputs": [],
   "source": [
    "class Subencoder(nn.Module):\n",
    "    def __init__(self,weight_dim,ff_hidden,n_heads,drop_probability):\n",
    "        super(Subencoder,self).__init__()\n",
    "        self.attention = Multiheadattention(weight_dim,n_heads)\n",
    "        self.norm = LayerNormalization(1e-6)\n",
    "        self.dropout1 = nn.Dropout(p = drop_probability)\n",
    "        self.ffd = feedfowardlayer(weight_dim,ff_hidden,drop_probability)\n",
    "        self.norm2 = LayerNormalization(1e-6)\n",
    "        self.dropout2 = nn.Dropout(p = drop_probability)\n",
    "    def forward(self,x,mask):\n",
    "        residual = x\n",
    "        x = self.attention(x,mask)\n",
    "        x = self.dropout1(x)\n",
    "        x = self.norm(x+residual)\n",
    "        residual = x\n",
    "        x = self.ffd(x)\n",
    "        x = self.dropout2(x)\n",
    "        x = self.norm2(x+residual)\n",
    "        return x"
   ]
  },
  {
   "cell_type": "code",
   "execution_count": 170,
   "id": "eea75ef1-6bc7-4263-a3b2-065fc5a0a89f",
   "metadata": {},
   "outputs": [],
   "source": [
    "class Sequentialencoder(nn.Sequential):\n",
    "    def foward(self,x,mask):\n",
    "        self.x = x\n",
    "        self.mask = mask\n",
    "        for module in self._modules.values():\n",
    "            x = module(self.x,self.mask)\n",
    "        return y"
   ]
  },
  {
   "cell_type": "code",
   "execution_count": 171,
   "id": "f20ea630-5a9c-4716-a7e3-1b95afbcd57b",
   "metadata": {},
   "outputs": [],
   "source": [
    "class Encoder(nn.Module):\n",
    "    def __init__(self,weight_dim,ff_hidden,n_heads,layers,drop_probability):\n",
    "        super(Encoder, self).__init__()\n",
    "        encoded_layers = []\n",
    "        for k in range(layers): \n",
    "            l = Subencoder(weight_dim, ff_hidden,n_heads,drop_probability)\n",
    "            encoded_layers.append(l)\n",
    "        self.layers = nn.ModuleList(encoded_layers)\n",
    "    def forward(self, x, mask=None):\n",
    "        for layer in self.layers:\n",
    "            x = layer(x, mask)\n",
    "        return x"
   ]
  },
  {
   "cell_type": "code",
   "execution_count": 172,
   "id": "ccf25215-9585-40d3-a495-57047eb3d9cd",
   "metadata": {},
   "outputs": [],
   "source": [
    "class Multiheadcrossattention(nn.Module):\n",
    "    def __init__(self,weights_dim,n_heads):\n",
    "        super().__init__()\n",
    "        self.weights_dim = weights_dim\n",
    "        self.n_heads = n_heads\n",
    "        self.head_dimensions = weights_dim//n_heads\n",
    "        self.kv_matrices = nn.Linear(weights_dim,2*weights_dim)\n",
    "        self.q_matrix = nn.Linear(weights_dim,weights_dim)\n",
    "        self.linear_layer = nn.Linear(weights_dim,weights_dim)\n",
    "    def forward(self,y,x,mask):\n",
    "        batches,maxseqlength,weight_dim = x.size()\n",
    "        kv = self.kv_matrices(x)\n",
    "        q = self.q_matrix(y)\n",
    "        kv = kv.reshape(batches,maxseqlength,self.n_heads,2*self.head_dimensions)\n",
    "        kv = kv.permute(0,2,1,3)\n",
    "        k,v = kv.chunk(2,dim=-1)\n",
    "        q = q.reshape(batches,maxseqlength,self.n_heads,self.head_dimensions)\n",
    "        q = q.permute(0,2,1,3)\n",
    "        k_transpose = k.transpose(-1,-2)\n",
    "        product = torch.matmul(q,k_transpose)\n",
    "        product = product/math.sqrt(q.size()[-1])\n",
    "        if mask is not None:\n",
    "            product = product+mask\n",
    "        attention_scores = func.softmax(product,dim=-1)\n",
    "        attentionintoV = torch.matmul(attention_scores,v)\n",
    "        n = (self.n_heads*self.head_dimensions)\n",
    "        output = self.linear_layer(attentionintoV.reshape(batches,maxseqlength,n))\n",
    "        return output"
   ]
  },
  {
   "cell_type": "code",
   "execution_count": 173,
   "id": "55fb5e06-8ac2-454f-bbcf-54840b565c51",
   "metadata": {},
   "outputs": [],
   "source": [
    "class Maskedattention(nn.Module):\n",
    "    def __init__(self,weights_dim,n_heads):\n",
    "        super().__init__()\n",
    "        self.weights_dim = weights_dim\n",
    "        self.n_heads = n_heads\n",
    "        self.head_dimensions = weights_dim//n_heads\n",
    "        self.qkv_matrices = nn.Linear(weights_dim,3*weights_dim)\n",
    "        self.linear_layer = nn.Linear(weights_dim,weights_dim)\n",
    "    def forward(self,x,mask,padmask):\n",
    "        batch,maxseqlength,weight_dim = x.size()\n",
    "        qkv = self.qkv_matrices(x)\n",
    "        qkv = qkv.reshape(batch,maxseqlength,self.n_heads,3*self.head_dimensions)\n",
    "        qkv = qkv.permute(0,2,1,3)\n",
    "        q,k,v = qkv.chunk(3,dim=-1)\n",
    "        k_transpose = k.transpose(-1,-2)\n",
    "        product = torch.matmul(q,k_transpose)\n",
    "        product = product/math.sqrt(q.size()[-1])\n",
    "        if mask is not None:\n",
    "            product = product+mask+padmask\n",
    "        attention_scores = func.softmax(product,dim=-1)\n",
    "        attentionintoV = torch.matmul(attention_scores,v)\n",
    "        n = (self.n_heads*self.head_dimensions)\n",
    "        output = self.linear_layer(attentionintoV.reshape(batch,maxseqlength,n))\n",
    "        return output"
   ]
  },
  {
   "cell_type": "code",
   "execution_count": 174,
   "id": "ce970b2e-9272-4306-867a-bc30a7ef5981",
   "metadata": {},
   "outputs": [],
   "source": [
    "class Subdecoder(nn.Module):\n",
    "    def __init__(self,weight_dim,ff_hidden,n_heads,drop_probability):\n",
    "        super(Subdecoder,self).__init__()\n",
    "        self.maskedattention = Maskedattention(weight_dim,n_heads)\n",
    "        self.norm = LayerNormalization(1e-6)\n",
    "        self.dropout1 = nn.Dropout(p = drop_probability)\n",
    "        self.Multicrossattention = Multiheadcrossattention(weight_dim,n_heads)\n",
    "        self.norm2 = LayerNormalization(1e-6)\n",
    "        self.dropout2 = nn.Dropout(p = drop_probability)\n",
    "        self.ffd = feedfowardlayer(weight_dim,ff_hidden,drop_probability)\n",
    "        self.norm3 = LayerNormalization(1e-6)\n",
    "        self.dropout3 = nn.Dropout(p = drop_probability)\n",
    "    def forward(self,x,y,mask,padmask,crossmask):\n",
    "        residual = y\n",
    "        y = self.maskedattention(y,mask,padmask)\n",
    "        y = self.dropout1(y)\n",
    "        y = self.norm(y+residual)\n",
    "        residual = y\n",
    "        y = self.Multicrossattention(y,x,crossmask)\n",
    "        y = self.dropout2(y)\n",
    "        y = self.norm2(y+residual)\n",
    "        residual = y\n",
    "        y = self.ffd(y)\n",
    "        y = self.dropout3(y)\n",
    "        y = self.norm3(y+residual)\n",
    "        return y"
   ]
  },
  {
   "cell_type": "code",
   "execution_count": 175,
   "id": "4e9ad2cd-87c2-4f5c-a7ba-78e9ebe3411a",
   "metadata": {},
   "outputs": [],
   "source": [
    "class Sequentialdecoder(nn.Sequential):\n",
    "    def forward(self,x,y,mask,padmask,crossattentpadmask):\n",
    "        for module in self._modules.values():\n",
    "            y = module(x,y,mask,padmask,crossattentpadmask)\n",
    "        return y"
   ]
  },
  {
   "cell_type": "code",
   "execution_count": 176,
   "id": "d4b26908-bb2d-4ee7-b388-3c514e993db7",
   "metadata": {},
   "outputs": [],
   "source": [
    "class Decoder(nn.Module):\n",
    "    def __init__(self,weight_dim,ff_hidden,n_heads,layers,drop_probability):\n",
    "        super().__init__()\n",
    "        decoded_layers = []\n",
    "        for k in range(layers):\n",
    "            l = Subdecoder(weight_dim,ff_hidden,n_heads,drop_probability)\n",
    "            decoded_layers.append(l)\n",
    "        self.layers = Sequentialdecoder(*[Subdecoder(weight_dim,ff_hidden,n_heads,drop_probability)])\n",
    "    def forward(self,x,y,mask,padmask,crossattentpadmask):\n",
    "        resdecoder = self.layers(x,y,mask,padmask,crossattentpadmask)\n",
    "        return resdecoder"
   ]
  },
  {
   "cell_type": "code",
   "execution_count": 177,
   "id": "1c56d80d-072e-454d-98d7-0241279c8190",
   "metadata": {},
   "outputs": [],
   "source": [
    "vocab_size = tokenizer.vocab_size"
   ]
  },
  {
   "cell_type": "code",
   "execution_count": 178,
   "id": "614e39c8-d0b9-4181-a553-d97e881a0d9f",
   "metadata": {},
   "outputs": [
    {
     "data": {
      "text/plain": [
       "32000"
      ]
     },
     "execution_count": 178,
     "metadata": {},
     "output_type": "execute_result"
    }
   ],
   "source": [
    "vocab_size"
   ]
  },
  {
   "cell_type": "code",
   "execution_count": 179,
   "id": "6830e418-80f1-41c5-a78f-3b3357b0b2f6",
   "metadata": {},
   "outputs": [],
   "source": [
    "class PositionalEncodingWithFeatureTransformation(nn.Module):\n",
    "    def __init__(self, input_dim, output_dim, max_sequence_length):\n",
    "        super(PositionalEncodingWithFeatureTransformation, self).__init__()\n",
    "        self.max_sequence_length = max_sequence_length\n",
    "        self.output_dim = output_dim\n",
    "        self.linear = nn.Linear(input_dim, output_dim)\n",
    "        self.positional_embeddings = nn.Parameter(torch.zeros(max_sequence_length, output_dim), requires_grad=True)\n",
    "        self.create_positional_encodings()\n",
    "    def create_positional_encodings(self):\n",
    "        even_i = torch.arange(0, self.output_dim, 2).float()\n",
    "        denominator = torch.pow(10000, even_i / self.output_dim)\n",
    "        position = torch.arange(self.max_sequence_length).reshape(self.max_sequence_length, 1)\n",
    "        even_PE = torch.sin(position / denominator)\n",
    "        odd_PE = torch.cos(position / denominator)\n",
    "        stacked = torch.stack([even_PE, odd_PE], dim=2)\n",
    "        self.positional_embeddings.data = torch.flatten(stacked, start_dim=1, end_dim=2)\n",
    "    def forward(self, x):\n",
    "        x = self.linear(x)  \n",
    "        positional_encoded = self.positional_embeddings[:x.size(1), :].unsqueeze(0) \n",
    "        return x + positional_encoded"
   ]
  },
  {
   "cell_type": "code",
   "execution_count": 180,
   "id": "076a7b25-f12a-4cbe-bcd2-05c35fee749a",
   "metadata": {},
   "outputs": [],
   "source": [
    "def to_one_hot(token_ids, num_classes):\n",
    "    one_hot = torch.zeros(token_ids.size(0), token_ids.size(1), num_classes, dtype=torch.float32)\n",
    "    one_hot.scatter_(2, token_ids.unsqueeze(2), 1) \n",
    "    return one_hot"
   ]
  },
  {
   "cell_type": "code",
   "execution_count": 181,
   "id": "c85eae50-def6-4fd1-abd0-da0f8aecc8c6",
   "metadata": {},
   "outputs": [],
   "source": [
    "def create_padding_mask(tensor_tokenized_inputs,batch_size,seq_len,n_heads):\n",
    "    padding_mask = (tensor_tokenized_inputs != 0).float()\n",
    "    padding_mask = padding_mask.unsqueeze(0)\n",
    "    mask_2d = padding_mask.unsqueeze(1).expand(-1, n_heads, seq_len, seq_len)  \n",
    "    padding_mask_expanded = (1.0 - mask_2d) * -3.4028e+38  \n",
    "    padding_mask_expanded[mask_2d == 1.0] = 0  \n",
    "    return padding_mask_expanded"
   ]
  },
  {
   "cell_type": "code",
   "execution_count": 182,
   "id": "5bf11567-5949-4a91-8719-60eff1cc8ba9",
   "metadata": {},
   "outputs": [],
   "source": [
    "def create_padding_mask_2(tensor_tokenized_outputs_, seq_len, n_heads):\n",
    "    padding_mask = (tensor_tokenized_outputs_ == 0).float()\n",
    "    repeated_mask_350 = padding_mask.repeat(seq_len, 1)\n",
    "    repeated_mask_8 = repeated_mask_350.unsqueeze(0).unsqueeze(0).repeat(1, n_heads, 1, 1)  \n",
    "    padding_mask_expanded = repeated_mask_8 * -3.4028e+38  \n",
    "    padding_mask_expanded[padding_mask_expanded == 0] = 0  \n",
    "    return padding_mask_expanded"
   ]
  },
  {
   "cell_type": "code",
   "execution_count": 183,
   "id": "dd3c488b-7d9c-4fe7-b3f2-a69e4c10d174",
   "metadata": {},
   "outputs": [],
   "source": [
    "def create_lookahead_mask(seq_len,n_heads):\n",
    "    lookahead_mask = torch.triu(torch.ones(seq_len, seq_len), diagonal=1)  \n",
    "    lookahead_mask = lookahead_mask * -3.4028e+38  \n",
    "    lookahead_mask = lookahead_mask + torch.tril(torch.zeros(seq_len, seq_len))\n",
    "    lookahead_mask = lookahead_mask.unsqueeze(0).unsqueeze(0) \n",
    "    lookahead_mask_expanded = lookahead_mask.repeat(1, n_heads, 1, 1)  \n",
    "    return lookahead_mask_expanded"
   ]
  },
  {
   "cell_type": "code",
   "execution_count": 184,
   "id": "e424c56b-7dfe-4134-9ba5-1cd86dd5c2ff",
   "metadata": {},
   "outputs": [],
   "source": [
    "class Transformer(nn.Module):\n",
    "    def __init__(self, vocab_size, weight_dim, ff_hidden_dim, n_heads, num_layers, max_input_seq_length,max_output_seq_length):\n",
    "        super(Transformer, self).__init__()\n",
    "        num_layers = int(num_layers) \n",
    "        self.embedding = nn.Embedding(vocab_size, weight_dim)\n",
    "        self.positional_input_encoding = PositionalEncodingWithFeatureTransformation(32000,512,max_input_seq_length)\n",
    "        self.positional_output_encoding = PositionalEncodingWithFeatureTransformation(32000,512,max_output_seq_length)\n",
    "        self.encoder = Encoder(weight_dim, ff_hidden_dim, n_heads, num_layers, 0.1)\n",
    "        self.decoder = Decoder(weight_dim, ff_hidden_dim, n_heads, num_layers, 0.1)\n",
    "        self.fc_out = nn.Linear(weight_dim, vocab_size)\n",
    "    def forward(self,src,tgt,src_mask,tgt_mask,lkahd_mask,crossattention_mask):\n",
    "        enc_out = self.encoder(src,src_mask)\n",
    "        dec_out = self.decoder(tgt,enc_out,lkahd_mask,tgt_mask,crossattention_mask)\n",
    "        return self.fc_out(dec_out)"
   ]
  },
  {
   "cell_type": "code",
   "execution_count": 185,
   "id": "aeb45de6-72ac-45bf-8c9f-5d808b855594",
   "metadata": {},
   "outputs": [],
   "source": [
    "weight_dim = 512\n",
    "ff_hidden_dim = 2048\n",
    "n_heads = 8\n",
    "num_layers = 6\n",
    "vocab_size = tokenizer.vocab_size\n",
    "max_seq_input_length = 1800\n",
    "max_seq_output_length = 1800\n",
    "transformer = Transformer(vocab_size,weight_dim, ff_hidden_dim, n_heads, num_layers,max_seq_input_length,max_seq_output_length)"
   ]
  },
  {
   "cell_type": "code",
   "execution_count": 186,
   "id": "7b85cb02-615d-4e81-877d-0c1c3ceb520d",
   "metadata": {},
   "outputs": [
    {
     "data": {
      "text/plain": [
       "Transformer(\n",
       "  (embedding): Embedding(32000, 512)\n",
       "  (positional_input_encoding): PositionalEncodingWithFeatureTransformation(\n",
       "    (linear): Linear(in_features=32000, out_features=512, bias=True)\n",
       "  )\n",
       "  (positional_output_encoding): PositionalEncodingWithFeatureTransformation(\n",
       "    (linear): Linear(in_features=32000, out_features=512, bias=True)\n",
       "  )\n",
       "  (encoder): Encoder(\n",
       "    (layers): ModuleList(\n",
       "      (0-5): 6 x Subencoder(\n",
       "        (attention): Multiheadattention(\n",
       "          (qkv_matrices): Linear(in_features=512, out_features=1536, bias=True)\n",
       "          (linear_layer): Linear(in_features=512, out_features=512, bias=True)\n",
       "        )\n",
       "        (norm): LayerNormalization()\n",
       "        (dropout1): Dropout(p=0.1, inplace=False)\n",
       "        (ffd): feedfowardlayer(\n",
       "          (linearlayer1): Linear(in_features=512, out_features=2048, bias=True)\n",
       "          (relu): ReLU()\n",
       "          (linearlayer2): Linear(in_features=2048, out_features=512, bias=True)\n",
       "          (drop_neurons): Dropout(p=0.1, inplace=False)\n",
       "        )\n",
       "        (norm2): LayerNormalization()\n",
       "        (dropout2): Dropout(p=0.1, inplace=False)\n",
       "      )\n",
       "    )\n",
       "  )\n",
       "  (decoder): Decoder(\n",
       "    (layers): Sequentialdecoder(\n",
       "      (0): Subdecoder(\n",
       "        (maskedattention): Maskedattention(\n",
       "          (qkv_matrices): Linear(in_features=512, out_features=1536, bias=True)\n",
       "          (linear_layer): Linear(in_features=512, out_features=512, bias=True)\n",
       "        )\n",
       "        (norm): LayerNormalization()\n",
       "        (dropout1): Dropout(p=0.1, inplace=False)\n",
       "        (Multicrossattention): Multiheadcrossattention(\n",
       "          (kv_matrices): Linear(in_features=512, out_features=1024, bias=True)\n",
       "          (q_matrix): Linear(in_features=512, out_features=512, bias=True)\n",
       "          (linear_layer): Linear(in_features=512, out_features=512, bias=True)\n",
       "        )\n",
       "        (norm2): LayerNormalization()\n",
       "        (dropout2): Dropout(p=0.1, inplace=False)\n",
       "        (ffd): feedfowardlayer(\n",
       "          (linearlayer1): Linear(in_features=512, out_features=2048, bias=True)\n",
       "          (relu): ReLU()\n",
       "          (linearlayer2): Linear(in_features=2048, out_features=512, bias=True)\n",
       "          (drop_neurons): Dropout(p=0.1, inplace=False)\n",
       "        )\n",
       "        (norm3): LayerNormalization()\n",
       "        (dropout3): Dropout(p=0.1, inplace=False)\n",
       "      )\n",
       "    )\n",
       "  )\n",
       "  (fc_out): Linear(in_features=512, out_features=32000, bias=True)\n",
       ")"
      ]
     },
     "execution_count": 186,
     "metadata": {},
     "output_type": "execute_result"
    }
   ],
   "source": [
    "transformer.to(device)"
   ]
  },
  {
   "cell_type": "code",
   "execution_count": 187,
   "id": "2e8dca60-f3f3-4ac2-b2ff-b5d8546c35f4",
   "metadata": {},
   "outputs": [],
   "source": [
    "class Word2VecEmbedding(nn.Module):\n",
    "    def __init__(self, vocab_size, embedding_dim):\n",
    "        super(Word2VecEmbedding, self).__init__()\n",
    "        self.embedding = nn.Embedding(vocab_size, embedding_dim)\n",
    "    def forward(self, token_ids):\n",
    "        return self.embedding(token_ids)"
   ]
  },
  {
   "cell_type": "code",
   "execution_count": 188,
   "id": "45d130ff-c77e-4f7f-a5fb-69cb283da3ed",
   "metadata": {},
   "outputs": [
    {
     "name": "stdout",
     "output_type": "stream",
     "text": [
      "tensor(10.5005, grad_fn=<NllLossBackward0>)\n",
      "tensor(8.1426, grad_fn=<NllLossBackward0>)\n",
      "tensor(6.5037, grad_fn=<NllLossBackward0>)\n",
      "tensor(5.0325, grad_fn=<NllLossBackward0>)\n",
      "tensor(5.0470, grad_fn=<NllLossBackward0>)\n",
      "tensor(2.9035, grad_fn=<NllLossBackward0>)\n",
      "tensor(2.1341, grad_fn=<NllLossBackward0>)\n",
      "tensor(1.1361, grad_fn=<NllLossBackward0>)\n",
      "tensor(0.6309, grad_fn=<NllLossBackward0>)\n",
      "tensor(0.4671, grad_fn=<NllLossBackward0>)\n",
      "tensor(0.3474, grad_fn=<NllLossBackward0>)\n",
      "tensor(0.2563, grad_fn=<NllLossBackward0>)\n",
      "tensor(0.2103, grad_fn=<NllLossBackward0>)\n",
      "tensor(0.1391, grad_fn=<NllLossBackward0>)\n",
      "tensor(0.1200, grad_fn=<NllLossBackward0>)\n",
      "tensor(0.0775, grad_fn=<NllLossBackward0>)\n",
      "tensor(0.0558, grad_fn=<NllLossBackward0>)\n",
      "tensor(0.0446, grad_fn=<NllLossBackward0>)\n",
      "tensor(0.0359, grad_fn=<NllLossBackward0>)\n",
      "tensor(0.0262, grad_fn=<NllLossBackward0>)\n",
      "tensor(0.0199, grad_fn=<NllLossBackward0>)\n",
      "tensor(0.0150, grad_fn=<NllLossBackward0>)\n",
      "tensor(0.0127, grad_fn=<NllLossBackward0>)\n",
      "tensor(0.0108, grad_fn=<NllLossBackward0>)\n",
      "tensor(0.0093, grad_fn=<NllLossBackward0>)\n",
      "tensor(0.0068, grad_fn=<NllLossBackward0>)\n",
      "tensor(0.0062, grad_fn=<NllLossBackward0>)\n",
      "tensor(0.0055, grad_fn=<NllLossBackward0>)\n",
      "tensor(0.0050, grad_fn=<NllLossBackward0>)\n",
      "tensor(0.0048, grad_fn=<NllLossBackward0>)\n",
      "tensor(0.0047, grad_fn=<NllLossBackward0>)\n",
      "tensor(0.0042, grad_fn=<NllLossBackward0>)\n",
      "tensor(0.0035, grad_fn=<NllLossBackward0>)\n",
      "tensor(0.0031, grad_fn=<NllLossBackward0>)\n",
      "tensor(0.0029, grad_fn=<NllLossBackward0>)\n"
     ]
    }
   ],
   "source": [
    "embedding_matrix_inputs = nn.Linear(512,512)\n",
    "embedding_matrix_outputs = nn.Linear(512,512)\n",
    "positional_embeddings = PositionalEncodingWithFeatureTransformation(input_dim=512,output_dim=512,max_sequence_length=1800)\n",
    "word2vec = Word2VecEmbedding(32000,512)\n",
    "optimizer = torch.optim.Adam(list(transformer.parameters()) + list(embedding_matrix_inputs.parameters()) + list(embedding_matrix_outputs.parameters()) + list(positional_embeddings.parameters()),lr=0.001)\n",
    "criterion = nn.CrossEntropyLoss(ignore_index=tokenizer.pad_token_id)\n",
    "for i in range(35):\n",
    "    weights_dim = 512\n",
    "    ff_hidden = 2048\n",
    "    n_heads = 8\n",
    "    drop_probability = 0.1\n",
    "    num_layers = 3\n",
    "    batch_size = 1\n",
    "    for i in range(len(train_dataset)):\n",
    "        start_idx = i * batch_size\n",
    "        end_idx = start_idx + batch_size\n",
    "        current_batch_inputs = tensor_tokenized_inputs[start_idx:end_idx]  \n",
    "        current_batch_outputs = tensor_tokenized_outputs[start_idx:end_idx]\n",
    "    with torch.no_grad(): \n",
    "           X = word2vec(current_batch_inputs)\n",
    "    with torch.no_grad():\n",
    "           Y = word2vec(current_batch_outputs)\n",
    "    embedded_X = embedding_matrix_inputs(X)\n",
    "    embedded_Y = embedding_matrix_outputs(Y)\n",
    "    positional_embeddingsx = positional_embeddings(X) \n",
    "    final_X = embedded_X + positional_embeddingsx\n",
    "    positional_embeddingsy = positional_embeddings(Y) \n",
    "    final_Y = embedded_Y + positional_embeddingsy\n",
    "    src_mask = create_padding_mask(current_batch_inputs,1,1800,8)\n",
    "    tgt_mask = create_padding_mask(current_batch_outputs,1,1800,8)\n",
    "    lkahd_mask = create_lookahead_mask(1800,8)\n",
    "    crossattention_mask = create_padding_mask_2(current_batch_outputs,1800,8)\n",
    "    logits = transformer(final_X,final_Y,src_mask,tgt_mask,lkahd_mask,crossattention_mask)\n",
    "    probabilities = func.softmax(logits,dim=-1)\n",
    "    predicted_tokens = torch.argmax(probabilities,dim=-1)\n",
    "    predicted_text = tokenizer.decode(predicted_tokens[0].tolist())\n",
    "    loss = criterion(logits.view(-1, logits.size(-1)), current_batch_outputs.view(-1))\n",
    "    print(loss)\n",
    "    optimizer.zero_grad()\n",
    "    loss.backward()\n",
    "    optimizer.step()"
   ]
  },
  {
   "cell_type": "code",
   "execution_count": 189,
   "id": "d63b2423-84a4-4cb5-8b4b-a385cd770a82",
   "metadata": {},
   "outputs": [
    {
     "data": {
      "text/plain": [
       "'Phillipe Mexes dismissed for grabbing the throat of Stefano Mauri AC Milan defender also appeared to clutch neck of Lazio player Lorik Cana Lazio beat AC Milan 3 1 at the Stadio Olimpico on Saturday in Serie A</s> beat the     </s> also too the  ozi the LaOlimp tozi Stadizizi  La Mexezi  Lazi Lao on theo  o Saturdayo Serie Milan A Mexezi of of Stefano Ma A Milan  too Lazi appeared to clutch neck Stadirik Cano      o  La grabbing the Loo beat  ozi La  dismissed to  zizi   Laoo the   Mexezi Laoziograbbing  Milan  to AC Lo Lazio player at  Stadio  dismissed   throatooorik Canoooo beat ozi tooo throatoo o  toe  in beate the Can oodefenderoo  Stadi o     o of o the oo  of playero ofoooo 1 atgrabbingo  o o Cano playeroograbbing ooograbbingo o grabbingo defender oicoo    defender o o Milan defender   ofo defender of Lazi    o  o   o     Milan defender of La  o defender zi  ooo 1 at  rik Can   defender o     throat Milan defender oodefenderoo                                                    oo                         o        ooooooooooooooooooooooooooooooooooooooooooooooooooooooooooooooooooooooo theooooooooooooooooooooooooooooooooooooooooooo theooooooooooooooooooooooooooooooooooooo theooooooooooooooooooooooooooooooooooooooooooo theoooooooooooooooooooooooooooo beate Stefaneicoeoicoeeicoeeicoeicoeeeee Stefanicoicoeeicoicoo Stefanicoeeeeeeeeeeico beateeeeicoe ofeeeeeeeeee ofe ofe of ofee the ofe theee ofeee of ofeee the of of of the the of ofe thee of of of of ofee ofe ofe ofe of ofe of of ofe thee of of of of the the of of the the thee the of the the of of ofee thee of ofee the ofe the of of oficoeico ofe ofe of of ofe of ofe of of ofee of ofee ofe the theeeee theeee of of of of of the of ofeee of of ofe the the the ofe of the ofe ofee ofe of the of the ofe ofe of theoooooooooooooooooooooooooooooooooooooooooooooooooooooooooooooo theoooooooooo theooooooooooooooooooooooooooooooooooooooooooooooooooooooooooooooooooooooooooooooooooooooooooooooooooooooooooooooooooooooooooooooooooooooooooooooooooooooooooooooooooooooooooo ooooooooo o ooooooooooooooooooooo theooooooooooooooooooooooooooooooo</s>o oicoo onoooooo Saturdayicoico o ono onicoooo beatoooooooooooooooooooooooooooooooooooooooooooooooo theooooooooo beat onoooo o onoooo beatoo   o  onooo oooooooooooooooooooooooooooooicoico the the the the the ofico Mico  the the the the theico the theico the M the M M the M the Mico the M M M the M the the the the the M Mico of the the the the M the the of M M M the the M the  M the the of the the M the the the the of the the the the theicoe M of the M M the the the the M the theico the the M the the of the M M M the the the the the the M the the the the of the the the the the the the the the the the the the the the the the the the the the M M the of the the the the of the the the the M the the the M of the M the the the the the the the of the M the of the the the the the the of the the of the M of the of of the the of the the the the the the the the the the the the the the the M the the the the the the of the the Mico the the the the the the the of the also   beat Stefano also  M Stefan  also Stefan also beat M Stefan M  also  also beat also   beat also Stefan Stefan    beato beat  beat M o beat  also  beat  beat Stefan M    Stefan  M beat Stefan Stefanuri Stefan Stefan  M Stefan  also  Stefan also M also also also also M  also also also also M s Stefan Stefan alsoo Stefan also Stefan also also also  also also also M beat also  also M M also also M M    Stefan s beatss also Stefan  also     also  Stefan  Stefan Stefan alsos s Stefan s also M          Stefan  uri   alsos Stefan also     Stefan  Stefan Stefan also Stefan Stefan also alsoo     also also  also   Stefan Stefan  also  also also M beat also  Stefan Stefano M Stefan beat also also Stefan Stefan beat   Stefano Stefan Stefano alsoo  beat beat beat Stefan Stefan o  beat'"
      ]
     },
     "execution_count": 189,
     "metadata": {},
     "output_type": "execute_result"
    }
   ],
   "source": [
    "predicted_text"
   ]
  },
  {
   "cell_type": "code",
   "execution_count": 190,
   "id": "18f01f3a-f3ab-4dae-821b-58c5a11cefc1",
   "metadata": {},
   "outputs": [
    {
     "name": "stdout",
     "output_type": "stream",
     "text": [
      "Phillipe Mexes dismissed for grabbing the throat of Stefano Mauri AC Milan defender also appeared to clutch neck of Lazio player Lorik Cana Lazio beat AC Milan 3 1 at the Stadio Olimpico on Saturday in Serie A\n"
     ]
    }
   ],
   "source": [
    "end_pos = predicted_text.find(\"</s>\")\n",
    "if end_pos != -1:\n",
    "    truncated_text = predicted_text[:end_pos]\n",
    "else:\n",
    "    truncated_text = predicted_text \n",
    "cleaned_text = \" \".join(truncated_text.split())\n",
    "print(cleaned_text)"
   ]
  },
  {
   "cell_type": "code",
   "execution_count": 191,
   "id": "ebc86979-14d7-4c44-a107-a6f92dace49b",
   "metadata": {},
   "outputs": [
    {
     "name": "stdout",
     "output_type": "stream",
     "text": [
      "Requirement already satisfied: gtts in /dgxa_home/se22uari173/anaconda3/lib/python3.10/site-packages (2.5.4)\n",
      "Requirement already satisfied: requests<3,>=2.27 in /dgxa_home/se22uari173/anaconda3/lib/python3.10/site-packages (from gtts) (2.32.3)\n",
      "Requirement already satisfied: click<8.2,>=7.1 in /dgxa_home/se22uari173/anaconda3/lib/python3.10/site-packages (from gtts) (8.1.7)\n",
      "Requirement already satisfied: charset-normalizer<4,>=2 in /dgxa_home/se22uari173/anaconda3/lib/python3.10/site-packages (from requests<3,>=2.27->gtts) (3.3.2)\n",
      "Requirement already satisfied: idna<4,>=2.5 in /dgxa_home/se22uari173/anaconda3/lib/python3.10/site-packages (from requests<3,>=2.27->gtts) (3.7)\n",
      "Requirement already satisfied: urllib3<3,>=1.21.1 in /dgxa_home/se22uari173/anaconda3/lib/python3.10/site-packages (from requests<3,>=2.27->gtts) (2.2.3)\n",
      "Requirement already satisfied: certifi>=2017.4.17 in /dgxa_home/se22uari173/anaconda3/lib/python3.10/site-packages (from requests<3,>=2.27->gtts) (2024.8.30)\n"
     ]
    }
   ],
   "source": [
    "!pip install gtts"
   ]
  },
  {
   "cell_type": "code",
   "execution_count": 192,
   "id": "5babc466-0c31-4a61-a64f-6780c956908d",
   "metadata": {},
   "outputs": [],
   "source": [
    "from gtts import gTTS"
   ]
  },
  {
   "cell_type": "code",
   "execution_count": 193,
   "id": "30fbafb8-943f-4105-8830-5ca4c76f1e22",
   "metadata": {},
   "outputs": [],
   "source": [
    "import os"
   ]
  },
  {
   "cell_type": "code",
   "execution_count": 194,
   "id": "1e2ac238-c5e1-4872-b71d-a02ad389f0b8",
   "metadata": {},
   "outputs": [
    {
     "name": "stdout",
     "output_type": "stream",
     "text": [
      "Requirement already satisfied: pygame in /dgxa_home/se22uari173/anaconda3/lib/python3.10/site-packages (2.6.1)\n"
     ]
    }
   ],
   "source": [
    "!pip install pygame"
   ]
  },
  {
   "cell_type": "code",
   "execution_count": 195,
   "id": "3cf389e4-9c11-40ca-a250-0271db984bb3",
   "metadata": {},
   "outputs": [
    {
     "name": "stdout",
     "output_type": "stream",
     "text": [
      "Requirement already satisfied: pydub in /dgxa_home/se22uari173/anaconda3/lib/python3.10/site-packages (0.25.1)\n"
     ]
    }
   ],
   "source": [
    "!pip install pydub"
   ]
  },
  {
   "cell_type": "code",
   "execution_count": 196,
   "id": "c6e991ab-418d-4924-8da9-289fe12ac798",
   "metadata": {},
   "outputs": [
    {
     "data": {
      "text/html": [
       "\n",
       "                <audio  controls=\"controls\" >\n",
       "                    <source src=\"data:audio/mpeg;base64,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\" type=\"audio/mpeg\" />\n",
       "                    Your browser does not support the audio element.\n",
       "                </audio>\n",
       "              "
      ],
      "text/plain": [
       "<IPython.lib.display.Audio object>"
      ]
     },
     "execution_count": 196,
     "metadata": {},
     "output_type": "execute_result"
    }
   ],
   "source": [
    "from pydub import AudioSegment\n",
    "from pydub.playback import play\n",
    "myobj = gTTS(text=cleaned_text, lang='en', slow=False)\n",
    "myobj.save(\"welcome.mp3\")\n",
    "from IPython.display import Audio\n",
    "Audio(\"welcome.mp3\")"
   ]
  },
  {
   "cell_type": "code",
   "execution_count": null,
   "id": "f1d4d723-6ee8-4e1e-939b-70f4965d9109",
   "metadata": {},
   "outputs": [],
   "source": []
  }
 ],
 "metadata": {
  "kernelspec": {
   "display_name": "Python 3 (ipykernel)",
   "language": "python",
   "name": "python3"
  },
  "language_info": {
   "codemirror_mode": {
    "name": "ipython",
    "version": 3
   },
   "file_extension": ".py",
   "mimetype": "text/x-python",
   "name": "python",
   "nbconvert_exporter": "python",
   "pygments_lexer": "ipython3",
   "version": "3.10.15"
  }
 },
 "nbformat": 4,
 "nbformat_minor": 5
}
